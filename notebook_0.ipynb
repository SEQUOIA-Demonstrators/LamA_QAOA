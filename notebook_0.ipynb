{
 "cells": [
  {
   "cell_type": "markdown",
   "id": "important-helping",
   "metadata": {},
   "source": [
    "---\n",
    "\n",
    "***This notebook is part of the project [SEQUOIA](https://websites.fraunhofer.de/sequoia/) of the [Competence Center Quantum Computing Baden-Württemberg](https://www.iaf.fraunhofer.de/en/networkers/KQC.html).***\n",
    "\n",
    "---"
   ]
  },
  {
   "cell_type": "markdown",
   "id": "c328ac66",
   "metadata": {},
   "source": [
    "<img src=\"images/sequoia_logo.png\" />\n",
    "\n",
    "<br>\n",
    "<br>"
   ]
  },
  {
   "cell_type": "markdown",
   "id": "acute-firewall",
   "metadata": {},
   "source": [
    "# SEQUOIA DEMONSTRATOR  <a class=\"tocSkip\"/>\n",
    "\n",
    "## Energy Use Case: Optimization of Charging Schedules for Electric Cars  <a class=\"tocSkip\"/>\n"
   ]
  },
  {
   "cell_type": "markdown",
   "id": "d2991828",
   "metadata": {},
   "source": [
    "***Author: Dr. Andreas Sturm, Fraunhofer IAO, andreas.sturm@iao.fraunhofer.de***"
   ]
  },
  {
   "cell_type": "markdown",
   "id": "529757a3",
   "metadata": {},
   "source": [
    "---"
   ]
  },
  {
   "cell_type": "markdown",
   "id": "60d69181",
   "metadata": {},
   "source": [
    "# Structure of the Demonstrator <a class=\"tocSkip\"/>"
   ]
  },
  {
   "cell_type": "markdown",
   "id": "color-association",
   "metadata": {},
   "source": [
    "In this demonstrator we show how to solve an energy use case on a quantum computer. We do this in four notebooks:\n",
    "- Notebook 1: Introduction to the use case, classical modeling and implementation\n",
    "- Notebook 2: QAOA: Theory and Implementation \n",
    "- Notebook 3: Transpilation Pipeline and Postprocessing\n",
    "- Notebook 4: Results from real quantum computers\n",
    "- Notebook 5 (bonus): CVaR QAOA"
   ]
  },
  {
   "cell_type": "markdown",
   "id": "ea8ab8ff",
   "metadata": {},
   "source": [
    "---"
   ]
  },
  {
   "cell_type": "markdown",
   "id": "e2e4f60f",
   "metadata": {},
   "source": [
    "# Technical Requirements <a class=tocSkip>"
   ]
  },
  {
   "cell_type": "markdown",
   "id": "0fb0df0f",
   "metadata": {},
   "source": [
    "In order to run the notebooks you need\n",
    "- `mthree==1.1.0`\n",
    "- `numpy==1.19.5`\n",
    "- `pandas==1.2.1`\n",
    "- `plotly==4.14.3`\n",
    "- `qiskit==0.39.4`\n",
    "- `qiskit_aer==0.11.1`\n",
    "- `qiskit_terra==0.22.2`\n",
    "\n",
    "Older or newer versions might not work."
   ]
  }
 ],
 "metadata": {
  "kernelspec": {
   "display_name": "env_lama_paper",
   "language": "python",
   "name": "env_lama_paper"
  },
  "language_info": {
   "codemirror_mode": {
    "name": "ipython",
    "version": 3
   },
   "file_extension": ".py",
   "mimetype": "text/x-python",
   "name": "python",
   "nbconvert_exporter": "python",
   "pygments_lexer": "ipython3",
   "version": "3.8.7"
  },
  "toc": {
   "base_numbering": 1,
   "nav_menu": {},
   "number_sections": true,
   "sideBar": true,
   "skip_h1_title": false,
   "title_cell": "Table of Contents",
   "title_sidebar": "Contents",
   "toc_cell": false,
   "toc_position": {},
   "toc_section_display": true,
   "toc_window_display": false
  }
 },
 "nbformat": 4,
 "nbformat_minor": 5
}
