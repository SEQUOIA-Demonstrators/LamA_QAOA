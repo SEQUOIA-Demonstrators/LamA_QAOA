{
 "cells": [
  {
   "cell_type": "markdown",
   "id": "c1e86302",
   "metadata": {
    "hide_input": false
   },
   "source": [
    "$\n",
    "\\newcommand{\\R}{\\mathbb{R}}\n",
    "\\newcommand{\\C}{\\mathbb{C}}\n",
    "\\newcommand{\\i}{\\mathrm{i}}\n",
    "%\n",
    "\\newcommand{\\HP}{\\mathcal{H}_P}\n",
    "\\newcommand{\\HM}{\\mathcal{H}_M}\n",
    "\\newcommand{\\UP}{\\mathcal{U}_P}\n",
    "\\newcommand{\\UM}{\\mathcal{U}_M}\n",
    "%\n",
    "\\newcommand{\\RX}{\\mathrm{RX}}\n",
    "\\newcommand{\\RZ}{\\mathrm{RZ}}\n",
    "\\newcommand{\\RZZ}{\\mathrm{RZZ}}\n",
    "\\newcommand{\\CX}{\\mathrm{CX}}\n",
    "\\newcommand{\\CNOT}{\\mathrm{CNOT}}\n",
    "\\newcommand{\\X}{\\mathrm{X}}\n",
    "\\newcommand{\\SX}{\\mathrm{\\sqrt{X}}}\n",
    "\\newcommand{\\SWAP}{\\mathrm{SWAP}}\n",
    "%\n",
    "\\newcommand{\\ket}[1]{\\left\\vert #1 \\right\\rangle}\n",
    "\\newcommand{\\bra}[1]{\\left\\langle #1 \\right\\vert}\n",
    "\\newcommand{\\braket}[1]{\\left\\langle #1 \\right\\rangle}\n",
    "\\newcommand{\\pmat}[1]{\\begin{pmatrix}#1\\end{pmatrix}}\n",
    "$"
   ]
  },
  {
   "cell_type": "markdown",
   "id": "important-helping",
   "metadata": {},
   "source": [
    "---\n",
    "\n",
    "***This notebook is part of the project [SEQUOIA](https://websites.fraunhofer.de/sequoia/) of the [Competence Center Quantum Computing Baden-Württemberg](https://www.iaf.fraunhofer.de/en/networkers/KQC.html).***\n",
    "\n",
    "---"
   ]
  },
  {
   "cell_type": "markdown",
   "id": "674897b9",
   "metadata": {},
   "source": [
    "<img src=\"images/sequoia_logo.png\" />\n",
    "\n",
    "<br>\n",
    "<br>"
   ]
  },
  {
   "cell_type": "markdown",
   "id": "acute-firewall",
   "metadata": {},
   "source": [
    "# SEQUOIA DEMONSTRATOR  <a class=\"tocSkip\"/>\n",
    "\n",
    "## Energy Use Case: Optimization of Charging Schedules for Electric Cars  <a class=\"tocSkip\"/>\n"
   ]
  },
  {
   "cell_type": "markdown",
   "id": "7798aaef",
   "metadata": {},
   "source": [
    "***Author: Dr. Andreas Sturm, Fraunhofer IAO, andreas.sturm@iao.fraunhofer.de***"
   ]
  },
  {
   "cell_type": "markdown",
   "id": "6810bcc5",
   "metadata": {},
   "source": [
    "---\n",
    "# Notebook 4 <a class=\"tocSkip\"/>\n",
    "---"
   ]
  },
  {
   "cell_type": "markdown",
   "id": "8d493067",
   "metadata": {},
   "source": [
    "# Introduction"
   ]
  },
  {
   "cell_type": "markdown",
   "id": "4ca1097c",
   "metadata": {},
   "source": [
    "In Notebook 1 we presented a real-world use case for optimizing charging schedules for electric cars, reduced it to a proof of concept model, and transformed it to a QUBO. Then, in Notebook 2 we presented the quantum algorithm QAOA and how the associated quantum circuits can be obtained. Subsequently, in Notebook 3 we explained how these quantum circuits can be transpiled and run on real quantum computers, and how the results of such experiments can be postprocessed. Building on this pipeline one can build a **series of experiments** in order to **study how good quantum computing** (with all its **limitations** in the current **NISQ era**) can be employed **for our charging schedule optimization use case**. It is exactly a series of such experiments that we will present in this notebook."
   ]
  },
  {
   "cell_type": "markdown",
   "id": "390f0f8d",
   "metadata": {},
   "source": [
    "*Note: Our main aim with this notebook is to provide and discuss results from quantum computing experiments. In order to keep this notebook at a reasonable scope we thus don't provide the detailed codes but only give the most important parts of them. Together with the knowledge of the previous notebooks the reader should be able to develop codes by him/herself (if this is desired)*"
   ]
  },
  {
   "cell_type": "markdown",
   "id": "d6667927",
   "metadata": {},
   "source": [
    "We begin with introducing the two example series on which all our experiments will be based."
   ]
  },
  {
   "cell_type": "markdown",
   "id": "c842b18e",
   "metadata": {},
   "source": [
    "# Examples for this Notebook"
   ]
  },
  {
   "cell_type": "markdown",
   "id": "fa9f7472",
   "metadata": {},
   "source": [
    "For all examples in this notebook we consider **1 charging station** with **4 charging levels** and **4 available time slots**."
   ]
  },
  {
   "cell_type": "markdown",
   "id": "a2556347",
   "metadata": {},
   "source": [
    "## Example Series 1\n",
    "As a first series of examples (denoted by example1pX, X=0, 1, 2 or 3) we assume that **1 car** is at the charging station and needs to **charge 4 energy units**. The **examples differ** in the **duration** that the car is **at the charging station**, namely\n",
    "- example1p0 $\\to$ car is at charging station at time slot 0\n",
    "- example1p1 $\\to$ car is at charging station at time slots 0, 1\n",
    "- example1p2 $\\to$ car is at charging station at time slots 0, 1, 2\n",
    "- example1p3 $\\to$ car is at charging station at time slots 0, 1, 2, 3"
   ]
  },
  {
   "cell_type": "markdown",
   "id": "b59115d4",
   "metadata": {},
   "source": [
    "<img src=\"images/notebook_4_example_1.png\" width=450 />"
   ]
  },
  {
   "cell_type": "markdown",
   "id": "e4144126",
   "metadata": {},
   "source": [
    "## Example Series 2"
   ]
  },
  {
   "cell_type": "markdown",
   "id": "3026658f",
   "metadata": {},
   "source": [
    "Our second series of examples (denoted by example2pX, X=0, 1, 2, 3 or 4) considers the situation where **2 cars** are at the charging station and **both** need to **charge 4 energy units**. Again, the **examples differ** in the **duration** that the cars are **at the charging station**, namely\n",
    "- example2p0 $\\to$ time slots green car: 0, time slots orange car: 1\n",
    "- example2p1 $\\to$ time slots green car: 0, 1, time slots orange car: 1, 2\n",
    "- example2p2 $\\to$ time slots green car: 0, 1, 2 time slots orange car: 1, 2, 3\n",
    "- example2p3 $\\to$ time slots green car: 0, 1, 2, 3 time slots orange car: 1, 2, 3\n",
    "- example2p4 $\\to$ time slots green car: 0, 1, 2, 3 time slots orange car: 0, 1, 2, 3"
   ]
  },
  {
   "cell_type": "markdown",
   "id": "a7bc22d2",
   "metadata": {},
   "source": [
    "<img src=\"images/notebook_4_example_2.png\" width=450 />"
   ]
  },
  {
   "cell_type": "markdown",
   "id": "02016e6c",
   "metadata": {},
   "source": [
    "Our first experiments are concerend with the classical optimization part of QAOA."
   ]
  },
  {
   "cell_type": "markdown",
   "id": "474174b3",
   "metadata": {},
   "source": [
    "# Classical Optimization"
   ]
  },
  {
   "cell_type": "markdown",
   "id": "75a82b8a",
   "metadata": {},
   "source": [
    "Recall from Notebook 2 that we want to find parameters $\\vec{\\beta}$ and $\\vec{\\gamma}$ such that the expectation value $e$, given by\n",
    "\n",
    "$$\n",
    "e(\\vec{\\beta}, \\vec{\\gamma})\n",
    "=\n",
    "\\langle \\psi_\\mathrm{QAOA}(\\vec{\\beta}, \\vec{\\gamma}) | \\HP |\\psi_\\mathrm{QAOA}(\\vec{\\beta}, \\vec{\\gamma}) \\rangle \\ ,\n",
    "$$\n",
    "\n",
    "is minimized. I.e. we search for $\\vec{\\beta}^\\ast$ and $\\vec{\\gamma}^\\ast$ that satisfy\n",
    "\n",
    "$$\n",
    "(\\vec{\\beta}^\\ast, \\vec{\\gamma}^\\ast) \n",
    "= \\mathrm{argmin}_{\\vec{\\beta}, \\vec{\\gamma}} e(\\vec{\\beta}, \\vec{\\gamma}) \\ .\n",
    "$$"
   ]
  },
  {
   "cell_type": "markdown",
   "id": "122e6f91",
   "metadata": {},
   "source": [
    "## Optimization Landscape"
   ]
  },
  {
   "cell_type": "markdown",
   "id": "5ab071ad",
   "metadata": {},
   "source": [
    "For $p=1$ we only have **two parameters** $\\beta_0$ and $\\gamma_0$ so that the **expectation value** $e(\\beta_0, \\gamma_0)$ can be **visualized as a heatmap**. We have done this for the following setting\n",
    "- We visualize the optimization landscape for parameters in the domain $[0, \\pi] \\times [0, 2 \\pi]$. For this purpose we use a fine, equidistant discretization of $[0, \\pi] \\times [0, 2 \\pi]$ into $100 \\times 200$ gridpoints $(\\beta_{0,j}, \\gamma_{0,k})$, $j=0, \\dots, 99$, $k=0, \\dots, 199$.\n",
    "- For every grid point $(\\beta_{0,j}, \\gamma_{0,k})$ we compute the expectation value $e(\\beta_{0,j}, \\gamma_{0,k})$. This gives a $100 \\times 200$ matrix $E = (e(\\beta_{0,j}, \\gamma_{0,k}))_{j,k}$.\n",
    "- For the transformation to a QUBO we use as value for the penalty $\\varrho$ the minimum value such that the solution of (QUBO) is a solution of (QCIO).\n",
    "- We use an exact state vector simulation to compute the expectation value."
   ]
  },
  {
   "cell_type": "markdown",
   "id": "909a4e99",
   "metadata": {},
   "source": [
    "In the following figures we see the results, where the **expectation value** $e(\\beta_{0,j}, \\gamma_{0,k})$ is **visualized** by the **color** of the point $(\\beta_{0,j}, \\gamma_{0,k})$ (see the colorscale in the plots)."
   ]
  },
  {
   "cell_type": "markdown",
   "id": "70c8b341",
   "metadata": {},
   "source": [
    "<img src=\"images/optimization_landscape/ex1.png\" width=800 />"
   ]
  },
  {
   "cell_type": "markdown",
   "id": "c3b3f0bb",
   "metadata": {},
   "source": [
    "<img src=\"images/optimization_landscape/ex2.png\" width=800 />"
   ]
  },
  {
   "cell_type": "markdown",
   "id": "e4b254f3",
   "metadata": {},
   "source": [
    "We see that the optimization landscapes are fairly complicated with lots of **local extrema**. This indicates that it is a **hard task** for classical optimizers to find the **global minimum** (depending on the initial guess (=starting point) for a local optimizer it will get stuck in a local minimum). Moreover, we already can see that for the bigger examples gradients vanish, see further the so-called **barren plateaus** phenomenom."
   ]
  },
  {
   "cell_type": "markdown",
   "id": "257d6bd0",
   "metadata": {},
   "source": [
    "In the next section we report results from a classical optimizer and will indeed experience that finding good parameters $\\vec{\\beta}$ and $\\vec{\\gamma}$ is difficult."
   ]
  },
  {
   "cell_type": "markdown",
   "id": "99319fb9",
   "metadata": {},
   "source": [
    "---\n",
    "Code snippet:\n",
    "\n",
    "```python\n",
    "from joblib import Parallel, delayed\n",
    "import plotly.graph_objects as go\n",
    "\n",
    "beta_mesh = np.linspace(0, np.pi, beta_mesh_grid_points)\n",
    "gamma_mesh = np.linspace(0, 2*np.pi, gamma_mesh_grid_points)\n",
    "energies = Parallel(n_jobs=-1)(\n",
    "    delayed(\n",
    "        energy_evaluation # this was defined in Notebook 2\n",
    "    )(\n",
    "        [beta, gamma]\n",
    "    ) for beta in beta_mesh for gamma in gamma_mesh \n",
    ")\n",
    "energy_matrix = np.reshape(energies, (gamma_mesh.size, beta_mesh.size), order='F')\n",
    "\n",
    "fig = go.Figure(\n",
    "    data =\n",
    "        go.Heatmap(\n",
    "            z=np.real(energy_matrix),\n",
    "            x=beta_mesh,\n",
    "            y=gamma_mesh,\n",
    "))\n",
    "```\n",
    "---"
   ]
  },
  {
   "cell_type": "markdown",
   "id": "4f7f70b0",
   "metadata": {},
   "source": [
    "## Results with Optimizer COBYLA"
   ]
  },
  {
   "cell_type": "markdown",
   "id": "7a6c1a83",
   "metadata": {},
   "source": [
    "For the now following results we used the **optimizer COBYLA**, [link](https://qiskit.org/documentation/stubs/qiskit.algorithms.optimizers.COBYLA.html#qiskit.algorithms.optimizers.COBYLA), to minimize $e(\\vec{\\beta}, \\vec{\\gamma})$ for QAOA with $p=1, 2$ and $3$. Moreover, we used\n",
    "- $10$ different penalties $\\varrho$ starting from the minimum that gives a feasible solution and advancing in $0.1$ steps.\n",
    "- For every combination of $p$ and $\\varrho$ we ran $50$ COBYLA minimizations with random initial guesses $\\vec{\\beta^{(0)}} \\in [0, \\pi]^p$, $\\vec{\\gamma^{(0)}} \\in [0, 2\\pi]^p$. The reamining COBYLA parameters where left by their default values.\n",
    "- We used an exact state vector simulation to compute the expectation value.\n",
    "\n",
    "We report the **expectation value $e(\\vec{\\beta^{\\ast}}, \\vec{\\gamma^{\\ast}})$** (termed $\\mathrm{cost}$ in the figures) below, where **$\\vec{\\beta^{\\ast}}$ and $\\vec{\\gamma^{\\ast}}$** are the **result of the COBYLA minimization**:\n",
    "$$\n",
    "\\text{random } \\vec{\\beta^{(0)}}, \\vec{\\gamma^{(0)}} \\stackrel{\\text{COBYLA}}{\\rightsquigarrow} \\vec{\\beta^{\\ast}}, \\vec{\\gamma^{\\ast}}\n",
    "$$ \n",
    "The **dashed line** in the plots corresponds to the **solution of the original minimization problem**, i.e. this is the value we try to reach with $e(\\vec{\\beta^{\\ast}}, \\vec{\\gamma^{\\ast}})$."
   ]
  },
  {
   "cell_type": "markdown",
   "id": "7ab01e7a",
   "metadata": {},
   "source": [
    "<img src=\"images/classical_optimization/example1p1.svg\" />"
   ]
  },
  {
   "cell_type": "markdown",
   "id": "b9fec927",
   "metadata": {},
   "source": [
    "<img src=\"images/classical_optimization/example1p3.svg\" />"
   ]
  },
  {
   "cell_type": "markdown",
   "id": "e20c0da7",
   "metadata": {},
   "source": [
    "<img src=\"images/classical_optimization/example2p1.svg\" />"
   ]
  },
  {
   "cell_type": "markdown",
   "id": "7d89ef24",
   "metadata": {},
   "source": [
    "<img src=\"images/classical_optimization/example2p4.svg\" />"
   ]
  },
  {
   "cell_type": "markdown",
   "id": "21f2c29c",
   "metadata": {},
   "source": [
    "In general, we see a **strong dependency** (and thus a **high variance**) of the result of the optimization with the **choice of the initial values** $\\vec{\\beta^{(0)}}$ and $\\vec{\\gamma^{(0)}}$ (every dot in the upper figures corresponds to one random choice of the initial values). Comparing the simpler examples with the more complicated ones, i.e. $\\mathrm{example1p1}$ with $\\mathrm{example1p3}$ and $\\mathrm{example2p1}$ with $\\mathrm{example2p4}$, we observe a higher variance  and that QAOA with $p=1$ performs poorly for the more complicated problems (note the accumulation of results at very high expectation values).\n",
    "\n",
    "Another observation is that a **higher parameter $p$** (as expected) **improves the quality of the QAOA solution**. In particuar, for example1p1 we observe that QAOA with $p=3$ yields expectation values near to the exact solution whereas QAOA with $p=1$ is bounded away from the exact solution for every initial choice $\\vec{\\beta^{(0)}}$ and $\\vec{\\gamma^{(0)}}$. \n",
    "\n",
    "In summary, we have seen that optimizing the parameters $\\vec{\\beta}$ and $\\vec{\\gamma}$ is indeed a difficult task. So, we can conclude that different optimizers should be tested and at least a few different initial values should be compared. We also observe that the choice of penalty plays a role but can hardly conclude a recommendation from the data."
   ]
  },
  {
   "cell_type": "markdown",
   "id": "6985d583",
   "metadata": {},
   "source": [
    "With this we end our experiments that solely used a simulator. The **following sections** deal with **results from real quantum computers**. An important **first step** here is to **analyze the transpilation** of our QAOA circuits and the **number of basis gates** (i.e. the number of gates that the quantum computing device natively supports) it requires in order to evaluate how well it can be executed on NISQ computers."
   ]
  },
  {
   "cell_type": "markdown",
   "id": "1d4edbd4",
   "metadata": {},
   "source": [
    "# Analysis of Transpiled QAOA Circuit"
   ]
  },
  {
   "cell_type": "markdown",
   "id": "950b5ae8",
   "metadata": {},
   "source": [
    "In Notebook 1 we already saw a sparsity plot of the QUBO matrix. Now, we explain how the sparsity pattern affects the transpilation of the QAOA circuit associated with the QUBO."
   ]
  },
  {
   "cell_type": "markdown",
   "id": "2690eb07",
   "metadata": {},
   "source": [
    "## Sparsity of QUBO Matrix and Number of $\\RZZ$ Gates"
   ]
  },
  {
   "cell_type": "markdown",
   "id": "bf662e44",
   "metadata": {},
   "source": [
    "Recall from Notebook 1 and Notebook 2 the QUBO cost function\n",
    "\n",
    "$$\n",
    "\\begin{equation}\n",
    "f_3(\\vec{b})\n",
    "= \\vec{b}^T A \\vec{b} + L \\vec{b} + c\n",
    "= \\sum_{i=0}^{n-1} \\sum_{j>i}^{n-1} a_{ij} b_i b_j\n",
    "+ \\sum_{i=0}^{n-1} l_i b_i \n",
    "+ c \\ ,\n",
    "\\end{equation}\n",
    "$$"
   ]
  },
  {
   "cell_type": "markdown",
   "id": "277a12aa",
   "metadata": {},
   "source": [
    "and that the transformation $b_i \\leftrightarrow \\tfrac12 \\bigl( I^{\\otimes n} - \\sigma_Z^{(i)} \\bigr)$ gave us the cost Hamiltonian\n",
    "\n",
    "$$\n",
    "\\HP = \\sum_{i=0}^{n-1} \\sum_{j>i}^{n-1} h_{ij} \\sigma_Z^{(i)} \\sigma_Z^{(j)}\n",
    "+ \\sum_{i=0}^{n-1} h_i' \\sigma_Z^{(i)}\n",
    "+ h'' I^{\\otimes n} \\ .\n",
    "$$"
   ]
  },
  {
   "cell_type": "markdown",
   "id": "df929160",
   "metadata": {},
   "source": [
    "Moreover, recall the mixing and the phase operators\n",
    "\n",
    "$$\n",
    "\\UM(\\beta)\n",
    "= \\mathrm{exp}(- \\mathrm{i} \\beta \\HM),\n",
    "\\qquad \\text{and} \\qquad\n",
    "\\UP(\\gamma) \n",
    "=  \\mathrm{exp}(- \\mathrm{i} \\gamma \\HP) \\ ,\n",
    "$$"
   ]
  },
  {
   "cell_type": "markdown",
   "id": "384a357d",
   "metadata": {},
   "source": [
    "respetively, as well as the gates needed to implement them:"
   ]
  },
  {
   "cell_type": "markdown",
   "id": "dcdcb5ad",
   "metadata": {},
   "source": [
    "$$\n",
    "\\UM(\\beta)\n",
    "= \\RX_0(2 \\beta) \\RX_1(2 \\beta) \\cdots \\RX_{n-1}(2 \\beta) \\ ,\n",
    "$$"
   ]
  },
  {
   "cell_type": "markdown",
   "id": "20705a18",
   "metadata": {},
   "source": [
    "$$\n",
    "\\UP(\\gamma) \n",
    "= \\RZZ_{0,1}(2 \\gamma h_{01}) \\RZZ_{0,2}(2 \\gamma h_{02}) \\cdots \\RZZ_{n-2,n-1}(2 \\gamma h_{n-2,n-1})\n",
    "\\ \n",
    "\\RZ_0(2\\gamma h_0^\\prime) \\RZ_1(2\\gamma h_1^\\prime) \\cdots \\RZ_{n-1}(2\\gamma h_{n-1}^\\prime) \\ .\n",
    "$$"
   ]
  },
  {
   "cell_type": "markdown",
   "id": "7e53c891",
   "metadata": {},
   "source": [
    "Observe that we need the **one-qubit gates** $\\RX$ and $\\RZ$ as well as the **two-qubit gate** $\\RZZ$. More precisely, we obtain a $\\RZZ$ gate for every coeffients $h_{ij} \\neq 0$. It is easy to see that we have $h_{ij} \\neq 0 \\Leftrightarrow a_{ij} \\neq 0$. This simply means: **the sparser** the matrix $A$ (= the lesser the number of non-zero entries in $A$) the **lesser $\\RZZ$ gates** we have in the circuit:\n",
    "\n",
    "$$\n",
    "\\text{number of non-zero entries of } A \\quad \\Longleftrightarrow \\quad \\text{number of } \\RZZ \\text{ gates}\n",
    "$$"
   ]
  },
  {
   "cell_type": "markdown",
   "id": "9079042c",
   "metadata": {},
   "source": [
    "Note: One can include $L$ into $A$ (in the QUBO cost function $f_3$) because $b_i^2 = b_i$. The resulting matrix, let's call it $\\tilde{A}$, then can have *non-zero* diagonal entries $\\tilde{a}_{ii} = l_i$. However, these entries *do not give rise* to a $\\RZZ$ gate. In this case we have\n",
    "\n",
    "$$\n",
    "\\text{number of non-zero (off-diagonal) entries of } \\tilde{A} \\quad \\Longleftrightarrow \\quad \\text{number of } \\RZZ \\text{ gates}\n",
    "$$"
   ]
  },
  {
   "cell_type": "markdown",
   "id": "42e02b5f",
   "metadata": {},
   "source": [
    "Clearly, the question arises why we should be very interested in the number of $\\RZZ$ gates and can neglect (to a certain degree) the number of the single qubit gates. In order to understand this we have to look at the **transpilations** of the gates."
   ]
  },
  {
   "cell_type": "markdown",
   "id": "26b71119",
   "metadata": {},
   "source": [
    "## Transpilation of $\\RX$, $\\RZ$ and $\\RZZ$"
   ]
  },
  {
   "cell_type": "markdown",
   "id": "3442d2bb",
   "metadata": {},
   "source": [
    "Let us write a quantum circuit with one $\\RX$, one $\\RZ$, and one $\\RZZ$ gate and transpile it to the **basis gates** of the current IBM quantum computers (see Notebook 3)."
   ]
  },
  {
   "cell_type": "code",
   "execution_count": null,
   "id": "8d6f108e",
   "metadata": {},
   "outputs": [],
   "source": [
    "import os\n",
    "os.environ[\"QISKIT_SETTINGS\"] = \"qiskitrc\""
   ]
  },
  {
   "cell_type": "code",
   "execution_count": 1,
   "id": "b4ecdeef",
   "metadata": {},
   "outputs": [
    {
     "data": {
      "image/svg+xml": "<?xml version=\"1.0\" encoding=\"utf-8\" standalone=\"no\"?>\n<!DOCTYPE svg PUBLIC \"-//W3C//DTD SVG 1.1//EN\"\n  \"http://www.w3.org/Graphics/SVG/1.1/DTD/svg11.dtd\">\n<svg xmlns:xlink=\"http://www.w3.org/1999/xlink\" width=\"352.377268pt\" height=\"123.482399pt\" viewBox=\"0 0 352.377268 123.482399\" xmlns=\"http://www.w3.org/2000/svg\" version=\"1.1\">\n <metadata>\n  <rdf:RDF xmlns:dc=\"http://purl.org/dc/elements/1.1/\" xmlns:cc=\"http://creativecommons.org/ns#\" xmlns:rdf=\"http://www.w3.org/1999/02/22-rdf-syntax-ns#\">\n   <cc:Work>\n    <dc:type rdf:resource=\"http://purl.org/dc/dcmitype/StillImage\"/>\n    <dc:date>2022-12-09T15:19:38.747665</dc:date>\n    <dc:format>image/svg+xml</dc:format>\n    <dc:creator>\n     <cc:Agent>\n      <dc:title>Matplotlib v3.5.2, https://matplotlib.org/</dc:title>\n     </cc:Agent>\n    </dc:creator>\n   </cc:Work>\n  </rdf:RDF>\n </metadata>\n <defs>\n  <style type=\"text/css\">*{stroke-linejoin: round; stroke-linecap: butt}</style>\n </defs>\n <g id=\"figure_1\">\n  <g id=\"patch_1\">\n   <path d=\"M -0 123.482399 \nL 352.377268 123.482399 \nL 352.377268 0 \nL -0 0 \nz\n\" style=\"fill: #ffffff\"/>\n  </g>\n  <g id=\"axes_1\">\n   <g id=\"line2d_1\">\n    <path d=\"M 63.381071 43.5608 \nL 340.632168 43.5608 \n\" clip-path=\"url(#pfe6ea322af)\" style=\"fill: none; stroke: #000000; stroke-width: 2; stroke-linecap: square\"/>\n   </g>\n   <g id=\"line2d_2\">\n    <path d=\"M 63.381071 89.011799 \nL 340.632168 89.011799 \n\" clip-path=\"url(#pfe6ea322af)\" style=\"fill: none; stroke: #000000; stroke-width: 2; stroke-linecap: square\"/>\n   </g>\n   <g id=\"patch_2\">\n    <path d=\"M 124.512666 66.286299 \nL 142.238555 66.286299 \nL 142.238555 20.8353 \nL 124.512666 20.8353 \nz\n\" clip-path=\"url(#pfe6ea322af)\" style=\"fill: #bdbdbd; opacity: 0.6\"/>\n   </g>\n   <g id=\"patch_3\">\n    <path d=\"M 124.512666 111.737299 \nL 142.238555 111.737299 \nL 142.238555 66.286299 \nL 124.512666 66.286299 \nz\n\" clip-path=\"url(#pfe6ea322af)\" style=\"fill: #bdbdbd; opacity: 0.6\"/>\n   </g>\n   <g id=\"patch_4\">\n    <path d=\"M 215.414664 66.286299 \nL 233.140554 66.286299 \nL 233.140554 20.8353 \nL 215.414664 20.8353 \nz\n\" clip-path=\"url(#pfe6ea322af)\" style=\"fill: #bdbdbd; opacity: 0.6\"/>\n   </g>\n   <g id=\"patch_5\">\n    <path d=\"M 215.414664 111.737299 \nL 233.140554 111.737299 \nL 233.140554 66.286299 \nL 215.414664 66.286299 \nz\n\" clip-path=\"url(#pfe6ea322af)\" style=\"fill: #bdbdbd; opacity: 0.6\"/>\n   </g>\n   <g id=\"line2d_3\">\n    <path d=\"M 292.454108 89.011799 \nL 292.454108 43.5608 \n\" clip-path=\"url(#pfe6ea322af)\" style=\"fill: none; stroke: #bb8bff; stroke-width: 2; stroke-linecap: square\"/>\n   </g>\n   <g id=\"patch_6\">\n    <path d=\"M 73.153036 58.332374 \nL 102.696186 58.332374 \nL 102.696186 28.789225 \nL 73.153036 28.789225 \nz\n\" clip-path=\"url(#pfe6ea322af)\" style=\"fill: #bb8bff; stroke: #bb8bff; stroke-width: 1.5; stroke-linejoin: miter\"/>\n   </g>\n   <g id=\"patch_7\">\n    <path d=\"M 164.055035 58.332374 \nL 193.598185 58.332374 \nL 193.598185 28.789225 \nL 164.055035 28.789225 \nz\n\" clip-path=\"url(#pfe6ea322af)\" style=\"fill: #bb8bff; stroke: #bb8bff; stroke-width: 1.5; stroke-linejoin: miter\"/>\n   </g>\n   <g id=\"patch_8\">\n    <path d=\"M 292.454108 47.992272 \nC 293.629349 47.992272 294.756612 47.525344 295.587633 46.694324 \nC 296.418653 45.863303 296.885581 44.73604 296.885581 43.5608 \nC 296.885581 42.385559 296.418653 41.258296 295.587633 40.427275 \nC 294.756612 39.596255 293.629349 39.129327 292.454108 39.129327 \nC 291.278868 39.129327 290.151604 39.596255 289.320584 40.427275 \nC 288.489564 41.258296 288.022636 42.385559 288.022636 43.5608 \nC 288.022636 44.73604 288.489564 45.863303 289.320584 46.694324 \nC 290.151604 47.525344 291.278868 47.992272 292.454108 47.992272 \nz\n\" clip-path=\"url(#pfe6ea322af)\" style=\"fill: #bb8bff; stroke: #bb8bff; stroke-width: 1.5; stroke-linejoin: miter\"/>\n   </g>\n   <g id=\"patch_9\">\n    <path d=\"M 292.454108 93.443271 \nC 293.629349 93.443271 294.756612 92.976343 295.587633 92.145323 \nC 296.418653 91.314303 296.885581 90.187039 296.885581 89.011799 \nC 296.885581 87.836559 296.418653 86.709295 295.587633 85.878275 \nC 294.756612 85.047254 293.629349 84.580326 292.454108 84.580326 \nC 291.278868 84.580326 290.151604 85.047254 289.320584 85.878275 \nC 288.489564 86.709295 288.022636 87.836559 288.022636 89.011799 \nC 288.022636 90.187039 288.489564 91.314303 289.320584 92.145323 \nC 290.151604 92.976343 291.278868 93.443271 292.454108 93.443271 \nz\n\" clip-path=\"url(#pfe6ea322af)\" style=\"fill: #bb8bff; stroke: #bb8bff; stroke-width: 1.5; stroke-linejoin: miter\"/>\n   </g>\n   <g id=\"text_1\">\n    <g clip-path=\"url(#pfe6ea322af)\">\n     <!-- ${q}_{0}$ -->\n     <g transform=\"translate(36.253371 48.011776)scale(0.1625 -0.1625)\">\n      <defs>\n       <path id=\"DejaVuSans-Oblique-71\" d=\"M 2669 525 \nQ 2438 222 2123 65 \nQ 1809 -91 1428 -91 \nQ 897 -91 595 267 \nQ 294 625 294 1253 \nQ 294 1759 480 2231 \nQ 666 2703 1013 3078 \nQ 1238 3322 1530 3453 \nQ 1822 3584 2144 3584 \nQ 2531 3584 2781 3431 \nQ 3031 3278 3144 2969 \nL 3244 3494 \nL 3822 3494 \nL 2888 -1319 \nL 2309 -1319 \nL 2669 525 \nz\nM 891 1338 \nQ 891 875 1084 633 \nQ 1278 391 1644 391 \nQ 2188 391 2572 911 \nQ 2956 1431 2956 2175 \nQ 2956 2625 2757 2864 \nQ 2559 3103 2188 3103 \nQ 1916 3103 1684 2976 \nQ 1453 2850 1281 2606 \nQ 1100 2350 995 2006 \nQ 891 1663 891 1338 \nz\n\" transform=\"scale(0.015625)\"/>\n       <path id=\"DejaVuSans-30\" d=\"M 2034 4250 \nQ 1547 4250 1301 3770 \nQ 1056 3291 1056 2328 \nQ 1056 1369 1301 889 \nQ 1547 409 2034 409 \nQ 2525 409 2770 889 \nQ 3016 1369 3016 2328 \nQ 3016 3291 2770 3770 \nQ 2525 4250 2034 4250 \nz\nM 2034 4750 \nQ 2819 4750 3233 4129 \nQ 3647 3509 3647 2328 \nQ 3647 1150 3233 529 \nQ 2819 -91 2034 -91 \nQ 1250 -91 836 529 \nQ 422 1150 422 2328 \nQ 422 3509 836 4129 \nQ 1250 4750 2034 4750 \nz\n\" transform=\"scale(0.015625)\"/>\n      </defs>\n      <use xlink:href=\"#DejaVuSans-Oblique-71\"/>\n      <use xlink:href=\"#DejaVuSans-30\" transform=\"translate(63.476562 -16.40625)scale(0.7)\"/>\n     </g>\n    </g>\n   </g>\n   <g id=\"text_2\">\n    <g clip-path=\"url(#pfe6ea322af)\">\n     <!-- ${q}_{1}$ -->\n     <g transform=\"translate(36.253371 93.462775)scale(0.1625 -0.1625)\">\n      <defs>\n       <path id=\"DejaVuSans-31\" d=\"M 794 531 \nL 1825 531 \nL 1825 4091 \nL 703 3866 \nL 703 4441 \nL 1819 4666 \nL 2450 4666 \nL 2450 531 \nL 3481 531 \nL 3481 0 \nL 794 0 \nL 794 531 \nz\n\" transform=\"scale(0.015625)\"/>\n      </defs>\n      <use xlink:href=\"#DejaVuSans-Oblique-71\"/>\n      <use xlink:href=\"#DejaVuSans-31\" transform=\"translate(63.476562 -16.40625)scale(0.7)\"/>\n     </g>\n    </g>\n   </g>\n   <g id=\"text_3\">\n    <g clip-path=\"url(#pfe6ea322af)\">\n     <!-- $\\theta$ -->\n     <g transform=\"translate(85.444611 54.631244)scale(0.08 -0.08)\">\n      <defs>\n       <path id=\"DejaVuSans-Oblique-3b8\" d=\"M 2913 2219 \nL 925 2219 \nQ 791 1284 928 888 \nQ 1100 400 1566 400 \nQ 2034 400 2391 891 \nQ 2703 1322 2913 2219 \nz\nM 3009 2750 \nQ 3094 3638 2984 3950 \nQ 2813 4444 2353 4444 \nQ 1875 4444 1525 3956 \nQ 1250 3563 1034 2750 \nL 3009 2750 \nz\nM 2444 4913 \nQ 3194 4913 3494 4250 \nQ 3794 3591 3566 2422 \nQ 3341 1256 2781 594 \nQ 2225 -72 1475 -72 \nQ 722 -72 425 594 \nQ 128 1256 353 2422 \nQ 581 3591 1134 4250 \nQ 1691 4913 2444 4913 \nz\n\" transform=\"scale(0.015625)\"/>\n      </defs>\n      <use xlink:href=\"#DejaVuSans-Oblique-3b8\" transform=\"translate(0 0.234375)\"/>\n     </g>\n    </g>\n   </g>\n   <g id=\"text_4\">\n    <g clip-path=\"url(#pfe6ea322af)\">\n     <!-- $\\mathrm{R_X}$ -->\n     <g transform=\"translate(79.994611 42.716515)scale(0.13 -0.13)\">\n      <defs>\n       <path id=\"DejaVuSans-52\" d=\"M 2841 2188 \nQ 3044 2119 3236 1894 \nQ 3428 1669 3622 1275 \nL 4263 0 \nL 3584 0 \nL 2988 1197 \nQ 2756 1666 2539 1819 \nQ 2322 1972 1947 1972 \nL 1259 1972 \nL 1259 0 \nL 628 0 \nL 628 4666 \nL 2053 4666 \nQ 2853 4666 3247 4331 \nQ 3641 3997 3641 3322 \nQ 3641 2881 3436 2590 \nQ 3231 2300 2841 2188 \nz\nM 1259 4147 \nL 1259 2491 \nL 2053 2491 \nQ 2509 2491 2742 2702 \nQ 2975 2913 2975 3322 \nQ 2975 3731 2742 3939 \nQ 2509 4147 2053 4147 \nL 1259 4147 \nz\n\" transform=\"scale(0.015625)\"/>\n       <path id=\"DejaVuSans-58\" d=\"M 403 4666 \nL 1081 4666 \nL 2241 2931 \nL 3406 4666 \nL 4084 4666 \nL 2584 2425 \nL 4184 0 \nL 3506 0 \nL 2194 1984 \nL 872 0 \nL 191 0 \nL 1856 2491 \nL 403 4666 \nz\n\" transform=\"scale(0.015625)\"/>\n      </defs>\n      <use xlink:href=\"#DejaVuSans-52\" transform=\"translate(0 0.09375)\"/>\n      <use xlink:href=\"#DejaVuSans-58\" transform=\"translate(70.439453 -16.3125)scale(0.7)\"/>\n     </g>\n    </g>\n   </g>\n   <g id=\"line2d_4\">\n    <path d=\"M 133.37561 20.8353 \nL 133.37561 66.286299 \n\" clip-path=\"url(#pfe6ea322af)\" style=\"fill: none; stroke-dasharray: 3.7,1.6; stroke-dashoffset: 0; stroke: #000000\"/>\n   </g>\n   <g id=\"line2d_5\">\n    <path d=\"M 133.37561 66.286299 \nL 133.37561 111.737299 \n\" clip-path=\"url(#pfe6ea322af)\" style=\"fill: none; stroke-dasharray: 3.7,1.6; stroke-dashoffset: 0; stroke: #000000\"/>\n   </g>\n   <g id=\"text_5\">\n    <g clip-path=\"url(#pfe6ea322af)\">\n     <!-- $\\theta$ -->\n     <g transform=\"translate(176.34661 54.631244)scale(0.08 -0.08)\">\n      <use xlink:href=\"#DejaVuSans-Oblique-3b8\" transform=\"translate(0 0.234375)\"/>\n     </g>\n    </g>\n   </g>\n   <g id=\"text_6\">\n    <g clip-path=\"url(#pfe6ea322af)\">\n     <!-- $\\mathrm{R_Z}$ -->\n     <g transform=\"translate(170.89661 42.716515)scale(0.13 -0.13)\">\n      <defs>\n       <path id=\"DejaVuSans-5a\" d=\"M 359 4666 \nL 4025 4666 \nL 4025 4184 \nL 1075 531 \nL 4097 531 \nL 4097 0 \nL 288 0 \nL 288 481 \nL 3238 4134 \nL 359 4134 \nL 359 4666 \nz\n\" transform=\"scale(0.015625)\"/>\n      </defs>\n      <use xlink:href=\"#DejaVuSans-52\" transform=\"translate(0 0.09375)\"/>\n      <use xlink:href=\"#DejaVuSans-5a\" transform=\"translate(70.439453 -16.3125)scale(0.7)\"/>\n     </g>\n    </g>\n   </g>\n   <g id=\"line2d_6\">\n    <path d=\"M 224.277609 20.8353 \nL 224.277609 66.286299 \n\" clip-path=\"url(#pfe6ea322af)\" style=\"fill: none; stroke-dasharray: 3.7,1.6; stroke-dashoffset: 0; stroke: #000000\"/>\n   </g>\n   <g id=\"line2d_7\">\n    <path d=\"M 224.277609 66.286299 \nL 224.277609 111.737299 \n\" clip-path=\"url(#pfe6ea322af)\" style=\"fill: none; stroke-dasharray: 3.7,1.6; stroke-dashoffset: 0; stroke: #000000\"/>\n   </g>\n   <g id=\"text_7\">\n    <g clip-path=\"url(#pfe6ea322af)\">\n     <!-- $\\mathrm{ZZ}$ ($\\theta$) -->\n     <g transform=\"translate(297.829088 65.547399)scale(0.08 -0.08)\">\n      <defs>\n       <path id=\"DejaVuSans-20\" transform=\"scale(0.015625)\"/>\n       <path id=\"DejaVuSans-28\" d=\"M 1984 4856 \nQ 1566 4138 1362 3434 \nQ 1159 2731 1159 2009 \nQ 1159 1288 1364 580 \nQ 1569 -128 1984 -844 \nL 1484 -844 \nQ 1016 -109 783 600 \nQ 550 1309 550 2009 \nQ 550 2706 781 3412 \nQ 1013 4119 1484 4856 \nL 1984 4856 \nz\n\" transform=\"scale(0.015625)\"/>\n       <path id=\"DejaVuSans-29\" d=\"M 513 4856 \nL 1013 4856 \nQ 1481 4119 1714 3412 \nQ 1947 2706 1947 2009 \nQ 1947 1309 1714 600 \nQ 1481 -109 1013 -844 \nL 513 -844 \nQ 928 -128 1133 580 \nQ 1338 1288 1338 2009 \nQ 1338 2731 1133 3434 \nQ 928 4138 513 4856 \nz\n\" transform=\"scale(0.015625)\"/>\n      </defs>\n      <use xlink:href=\"#DejaVuSans-5a\" transform=\"translate(0 0.234375)\"/>\n      <use xlink:href=\"#DejaVuSans-5a\" transform=\"translate(68.505859 0.234375)\"/>\n      <use xlink:href=\"#DejaVuSans-20\" transform=\"translate(137.011719 0.234375)\"/>\n      <use xlink:href=\"#DejaVuSans-28\" transform=\"translate(168.798828 0.234375)\"/>\n      <use xlink:href=\"#DejaVuSans-Oblique-3b8\" transform=\"translate(207.8125 0.234375)\"/>\n      <use xlink:href=\"#DejaVuSans-29\" transform=\"translate(268.994141 0.234375)\"/>\n     </g>\n    </g>\n   </g>\n  </g>\n </g>\n <defs>\n  <clipPath id=\"pfe6ea322af\">\n   <rect x=\"7.2\" y=\"7.2\" width=\"337.977268\" height=\"109.082399\"/>\n  </clipPath>\n </defs>\n</svg>\n",
      "text/plain": [
       "<Figure size 447.652x144.48 with 1 Axes>"
      ]
     },
     "execution_count": 1,
     "metadata": {},
     "output_type": "execute_result"
    }
   ],
   "source": [
    "from qiskit.circuit import QuantumCircuit, Parameter\n",
    "from qiskit.compiler import transpile\n",
    "\n",
    "theta = Parameter(\"$\\\\theta$\")\n",
    "qc = QuantumCircuit(2)\n",
    "qc.rx(theta, 0)\n",
    "qc.barrier()\n",
    "qc.rz(theta, 0)\n",
    "qc.barrier()\n",
    "qc.rzz(theta, 0, 1)\n",
    "qc.draw()"
   ]
  },
  {
   "cell_type": "code",
   "execution_count": 2,
   "id": "bfe02298",
   "metadata": {
    "scrolled": true
   },
   "outputs": [
    {
     "data": {
      "image/svg+xml": "<?xml version=\"1.0\" encoding=\"utf-8\" standalone=\"no\"?>\n<!DOCTYPE svg PUBLIC \"-//W3C//DTD SVG 1.1//EN\"\n  \"http://www.w3.org/Graphics/SVG/1.1/DTD/svg11.dtd\">\n<svg xmlns:xlink=\"http://www.w3.org/1999/xlink\" width=\"579.632265pt\" height=\"131.080836pt\" viewBox=\"0 0 579.632265 131.080836\" xmlns=\"http://www.w3.org/2000/svg\" version=\"1.1\">\n <metadata>\n  <rdf:RDF xmlns:dc=\"http://purl.org/dc/elements/1.1/\" xmlns:cc=\"http://creativecommons.org/ns#\" xmlns:rdf=\"http://www.w3.org/1999/02/22-rdf-syntax-ns#\">\n   <cc:Work>\n    <dc:type rdf:resource=\"http://purl.org/dc/dcmitype/StillImage\"/>\n    <dc:date>2022-12-09T15:19:39.244397</dc:date>\n    <dc:format>image/svg+xml</dc:format>\n    <dc:creator>\n     <cc:Agent>\n      <dc:title>Matplotlib v3.5.2, https://matplotlib.org/</dc:title>\n     </cc:Agent>\n    </dc:creator>\n   </cc:Work>\n  </rdf:RDF>\n </metadata>\n <defs>\n  <style type=\"text/css\">*{stroke-linejoin: round; stroke-linecap: butt}</style>\n </defs>\n <g id=\"figure_1\">\n  <g id=\"patch_1\">\n   <path d=\"M 0 131.080836 \nL 579.632265 131.080836 \nL 579.632265 0 \nL 0 0 \nz\n\" style=\"fill: #ffffff\"/>\n  </g>\n  <g id=\"axes_1\">\n   <g id=\"line2d_1\">\n    <path d=\"M 63.381071 51.159237 \nL 567.887165 51.159237 \n\" clip-path=\"url(#pd9e2702897)\" style=\"fill: none; stroke: #000000; stroke-width: 2; stroke-linecap: square\"/>\n   </g>\n   <g id=\"line2d_2\">\n    <path d=\"M 63.381071 96.610236 \nL 567.887165 96.610236 \n\" clip-path=\"url(#pd9e2702897)\" style=\"fill: none; stroke: #000000; stroke-width: 2; stroke-linecap: square\"/>\n   </g>\n   <g id=\"text_1\">\n    <!-- Global Phase: 3$\\pi$/2 -->\n    <g transform=\"translate(7.2 14.798437)scale(0.1 -0.1)\">\n     <defs>\n      <path id=\"DejaVuSans-47\" d=\"M 3809 666 \nL 3809 1919 \nL 2778 1919 \nL 2778 2438 \nL 4434 2438 \nL 4434 434 \nQ 4069 175 3628 42 \nQ 3188 -91 2688 -91 \nQ 1594 -91 976 548 \nQ 359 1188 359 2328 \nQ 359 3472 976 4111 \nQ 1594 4750 2688 4750 \nQ 3144 4750 3555 4637 \nQ 3966 4525 4313 4306 \nL 4313 3634 \nQ 3963 3931 3569 4081 \nQ 3175 4231 2741 4231 \nQ 1884 4231 1454 3753 \nQ 1025 3275 1025 2328 \nQ 1025 1384 1454 906 \nQ 1884 428 2741 428 \nQ 3075 428 3337 486 \nQ 3600 544 3809 666 \nz\n\" transform=\"scale(0.015625)\"/>\n      <path id=\"DejaVuSans-6c\" d=\"M 603 4863 \nL 1178 4863 \nL 1178 0 \nL 603 0 \nL 603 4863 \nz\n\" transform=\"scale(0.015625)\"/>\n      <path id=\"DejaVuSans-6f\" d=\"M 1959 3097 \nQ 1497 3097 1228 2736 \nQ 959 2375 959 1747 \nQ 959 1119 1226 758 \nQ 1494 397 1959 397 \nQ 2419 397 2687 759 \nQ 2956 1122 2956 1747 \nQ 2956 2369 2687 2733 \nQ 2419 3097 1959 3097 \nz\nM 1959 3584 \nQ 2709 3584 3137 3096 \nQ 3566 2609 3566 1747 \nQ 3566 888 3137 398 \nQ 2709 -91 1959 -91 \nQ 1206 -91 779 398 \nQ 353 888 353 1747 \nQ 353 2609 779 3096 \nQ 1206 3584 1959 3584 \nz\n\" transform=\"scale(0.015625)\"/>\n      <path id=\"DejaVuSans-62\" d=\"M 3116 1747 \nQ 3116 2381 2855 2742 \nQ 2594 3103 2138 3103 \nQ 1681 3103 1420 2742 \nQ 1159 2381 1159 1747 \nQ 1159 1113 1420 752 \nQ 1681 391 2138 391 \nQ 2594 391 2855 752 \nQ 3116 1113 3116 1747 \nz\nM 1159 2969 \nQ 1341 3281 1617 3432 \nQ 1894 3584 2278 3584 \nQ 2916 3584 3314 3078 \nQ 3713 2572 3713 1747 \nQ 3713 922 3314 415 \nQ 2916 -91 2278 -91 \nQ 1894 -91 1617 61 \nQ 1341 213 1159 525 \nL 1159 0 \nL 581 0 \nL 581 4863 \nL 1159 4863 \nL 1159 2969 \nz\n\" transform=\"scale(0.015625)\"/>\n      <path id=\"DejaVuSans-61\" d=\"M 2194 1759 \nQ 1497 1759 1228 1600 \nQ 959 1441 959 1056 \nQ 959 750 1161 570 \nQ 1363 391 1709 391 \nQ 2188 391 2477 730 \nQ 2766 1069 2766 1631 \nL 2766 1759 \nL 2194 1759 \nz\nM 3341 1997 \nL 3341 0 \nL 2766 0 \nL 2766 531 \nQ 2569 213 2275 61 \nQ 1981 -91 1556 -91 \nQ 1019 -91 701 211 \nQ 384 513 384 1019 \nQ 384 1609 779 1909 \nQ 1175 2209 1959 2209 \nL 2766 2209 \nL 2766 2266 \nQ 2766 2663 2505 2880 \nQ 2244 3097 1772 3097 \nQ 1472 3097 1187 3025 \nQ 903 2953 641 2809 \nL 641 3341 \nQ 956 3463 1253 3523 \nQ 1550 3584 1831 3584 \nQ 2591 3584 2966 3190 \nQ 3341 2797 3341 1997 \nz\n\" transform=\"scale(0.015625)\"/>\n      <path id=\"DejaVuSans-20\" transform=\"scale(0.015625)\"/>\n      <path id=\"DejaVuSans-50\" d=\"M 1259 4147 \nL 1259 2394 \nL 2053 2394 \nQ 2494 2394 2734 2622 \nQ 2975 2850 2975 3272 \nQ 2975 3691 2734 3919 \nQ 2494 4147 2053 4147 \nL 1259 4147 \nz\nM 628 4666 \nL 2053 4666 \nQ 2838 4666 3239 4311 \nQ 3641 3956 3641 3272 \nQ 3641 2581 3239 2228 \nQ 2838 1875 2053 1875 \nL 1259 1875 \nL 1259 0 \nL 628 0 \nL 628 4666 \nz\n\" transform=\"scale(0.015625)\"/>\n      <path id=\"DejaVuSans-68\" d=\"M 3513 2113 \nL 3513 0 \nL 2938 0 \nL 2938 2094 \nQ 2938 2591 2744 2837 \nQ 2550 3084 2163 3084 \nQ 1697 3084 1428 2787 \nQ 1159 2491 1159 1978 \nL 1159 0 \nL 581 0 \nL 581 4863 \nL 1159 4863 \nL 1159 2956 \nQ 1366 3272 1645 3428 \nQ 1925 3584 2291 3584 \nQ 2894 3584 3203 3211 \nQ 3513 2838 3513 2113 \nz\n\" transform=\"scale(0.015625)\"/>\n      <path id=\"DejaVuSans-73\" d=\"M 2834 3397 \nL 2834 2853 \nQ 2591 2978 2328 3040 \nQ 2066 3103 1784 3103 \nQ 1356 3103 1142 2972 \nQ 928 2841 928 2578 \nQ 928 2378 1081 2264 \nQ 1234 2150 1697 2047 \nL 1894 2003 \nQ 2506 1872 2764 1633 \nQ 3022 1394 3022 966 \nQ 3022 478 2636 193 \nQ 2250 -91 1575 -91 \nQ 1294 -91 989 -36 \nQ 684 19 347 128 \nL 347 722 \nQ 666 556 975 473 \nQ 1284 391 1588 391 \nQ 1994 391 2212 530 \nQ 2431 669 2431 922 \nQ 2431 1156 2273 1281 \nQ 2116 1406 1581 1522 \nL 1381 1569 \nQ 847 1681 609 1914 \nQ 372 2147 372 2553 \nQ 372 3047 722 3315 \nQ 1072 3584 1716 3584 \nQ 2034 3584 2315 3537 \nQ 2597 3491 2834 3397 \nz\n\" transform=\"scale(0.015625)\"/>\n      <path id=\"DejaVuSans-65\" d=\"M 3597 1894 \nL 3597 1613 \nL 953 1613 \nQ 991 1019 1311 708 \nQ 1631 397 2203 397 \nQ 2534 397 2845 478 \nQ 3156 559 3463 722 \nL 3463 178 \nQ 3153 47 2828 -22 \nQ 2503 -91 2169 -91 \nQ 1331 -91 842 396 \nQ 353 884 353 1716 \nQ 353 2575 817 3079 \nQ 1281 3584 2069 3584 \nQ 2775 3584 3186 3129 \nQ 3597 2675 3597 1894 \nz\nM 3022 2063 \nQ 3016 2534 2758 2815 \nQ 2500 3097 2075 3097 \nQ 1594 3097 1305 2825 \nQ 1016 2553 972 2059 \nL 3022 2063 \nz\n\" transform=\"scale(0.015625)\"/>\n      <path id=\"DejaVuSans-3a\" d=\"M 750 794 \nL 1409 794 \nL 1409 0 \nL 750 0 \nL 750 794 \nz\nM 750 3309 \nL 1409 3309 \nL 1409 2516 \nL 750 2516 \nL 750 3309 \nz\n\" transform=\"scale(0.015625)\"/>\n      <path id=\"DejaVuSans-33\" d=\"M 2597 2516 \nQ 3050 2419 3304 2112 \nQ 3559 1806 3559 1356 \nQ 3559 666 3084 287 \nQ 2609 -91 1734 -91 \nQ 1441 -91 1130 -33 \nQ 819 25 488 141 \nL 488 750 \nQ 750 597 1062 519 \nQ 1375 441 1716 441 \nQ 2309 441 2620 675 \nQ 2931 909 2931 1356 \nQ 2931 1769 2642 2001 \nQ 2353 2234 1838 2234 \nL 1294 2234 \nL 1294 2753 \nL 1863 2753 \nQ 2328 2753 2575 2939 \nQ 2822 3125 2822 3475 \nQ 2822 3834 2567 4026 \nQ 2313 4219 1838 4219 \nQ 1578 4219 1281 4162 \nQ 984 4106 628 3988 \nL 628 4550 \nQ 988 4650 1302 4700 \nQ 1616 4750 1894 4750 \nQ 2613 4750 3031 4423 \nQ 3450 4097 3450 3541 \nQ 3450 3153 3228 2886 \nQ 3006 2619 2597 2516 \nz\n\" transform=\"scale(0.015625)\"/>\n      <path id=\"DejaVuSans-Oblique-3c0\" d=\"M 584 3500 \nL 3938 3500 \nL 3825 2925 \nL 3384 2925 \nL 2966 775 \nQ 2922 550 2981 450 \nQ 3038 353 3209 353 \nQ 3256 353 3325 363 \nQ 3397 369 3419 372 \nL 3338 -44 \nQ 3222 -84 3103 -103 \nQ 2981 -122 2866 -122 \nQ 2491 -122 2388 81 \nQ 2284 288 2391 838 \nL 2797 2925 \nL 1506 2925 \nL 938 0 \nL 350 0 \nL 919 2925 \nL 472 2925 \nL 584 3500 \nz\n\" transform=\"scale(0.015625)\"/>\n      <path id=\"DejaVuSans-2f\" d=\"M 1625 4666 \nL 2156 4666 \nL 531 -594 \nL 0 -594 \nL 1625 4666 \nz\n\" transform=\"scale(0.015625)\"/>\n      <path id=\"DejaVuSans-32\" d=\"M 1228 531 \nL 3431 531 \nL 3431 0 \nL 469 0 \nL 469 531 \nQ 828 903 1448 1529 \nQ 2069 2156 2228 2338 \nQ 2531 2678 2651 2914 \nQ 2772 3150 2772 3378 \nQ 2772 3750 2511 3984 \nQ 2250 4219 1831 4219 \nQ 1534 4219 1204 4116 \nQ 875 4013 500 3803 \nL 500 4441 \nQ 881 4594 1212 4672 \nQ 1544 4750 1819 4750 \nQ 2544 4750 2975 4387 \nQ 3406 4025 3406 3419 \nQ 3406 3131 3298 2873 \nQ 3191 2616 2906 2266 \nQ 2828 2175 2409 1742 \nQ 1991 1309 1228 531 \nz\n\" transform=\"scale(0.015625)\"/>\n     </defs>\n     <use xlink:href=\"#DejaVuSans-47\" transform=\"translate(0 0.015625)\"/>\n     <use xlink:href=\"#DejaVuSans-6c\" transform=\"translate(77.490234 0.015625)\"/>\n     <use xlink:href=\"#DejaVuSans-6f\" transform=\"translate(105.273438 0.015625)\"/>\n     <use xlink:href=\"#DejaVuSans-62\" transform=\"translate(166.455078 0.015625)\"/>\n     <use xlink:href=\"#DejaVuSans-61\" transform=\"translate(229.931641 0.015625)\"/>\n     <use xlink:href=\"#DejaVuSans-6c\" transform=\"translate(291.210938 0.015625)\"/>\n     <use xlink:href=\"#DejaVuSans-20\" transform=\"translate(318.994141 0.015625)\"/>\n     <use xlink:href=\"#DejaVuSans-50\" transform=\"translate(350.78125 0.015625)\"/>\n     <use xlink:href=\"#DejaVuSans-68\" transform=\"translate(411.083984 0.015625)\"/>\n     <use xlink:href=\"#DejaVuSans-61\" transform=\"translate(474.462891 0.015625)\"/>\n     <use xlink:href=\"#DejaVuSans-73\" transform=\"translate(535.742188 0.015625)\"/>\n     <use xlink:href=\"#DejaVuSans-65\" transform=\"translate(587.841797 0.015625)\"/>\n     <use xlink:href=\"#DejaVuSans-3a\" transform=\"translate(649.365234 0.015625)\"/>\n     <use xlink:href=\"#DejaVuSans-20\" transform=\"translate(683.056641 0.015625)\"/>\n     <use xlink:href=\"#DejaVuSans-33\" transform=\"translate(714.84375 0.015625)\"/>\n     <use xlink:href=\"#DejaVuSans-Oblique-3c0\" transform=\"translate(778.466797 0.015625)\"/>\n     <use xlink:href=\"#DejaVuSans-2f\" transform=\"translate(838.671875 0.015625)\"/>\n     <use xlink:href=\"#DejaVuSans-32\" transform=\"translate(868.738281 0.015625)\"/>\n    </g>\n   </g>\n   <g id=\"patch_2\">\n    <path d=\"M 306.316663 73.884737 \nL 324.042553 73.884737 \nL 324.042553 28.433737 \nL 306.316663 28.433737 \nz\n\" clip-path=\"url(#pd9e2702897)\" style=\"fill: #bdbdbd; opacity: 0.6\"/>\n   </g>\n   <g id=\"patch_3\">\n    <path d=\"M 306.316663 119.335736 \nL 324.042553 119.335736 \nL 324.042553 73.884737 \nL 306.316663 73.884737 \nz\n\" clip-path=\"url(#pd9e2702897)\" style=\"fill: #bdbdbd; opacity: 0.6\"/>\n   </g>\n   <g id=\"patch_4\">\n    <path d=\"M 397.218662 73.884737 \nL 414.944552 73.884737 \nL 414.944552 28.433737 \nL 397.218662 28.433737 \nz\n\" clip-path=\"url(#pd9e2702897)\" style=\"fill: #bdbdbd; opacity: 0.6\"/>\n   </g>\n   <g id=\"patch_5\">\n    <path d=\"M 397.218662 119.335736 \nL 414.944552 119.335736 \nL 414.944552 73.884737 \nL 397.218662 73.884737 \nz\n\" clip-path=\"url(#pd9e2702897)\" style=\"fill: #bdbdbd; opacity: 0.6\"/>\n   </g>\n   <g id=\"line2d_3\">\n    <path d=\"M 451.532606 96.610236 \nL 451.532606 51.159237 \n\" clip-path=\"url(#pd9e2702897)\" style=\"fill: none; stroke: #6fa4ff; stroke-width: 2; stroke-linecap: square\"/>\n   </g>\n   <g id=\"line2d_4\">\n    <path d=\"M 542.434605 96.610236 \nL 542.434605 51.159237 \n\" clip-path=\"url(#pd9e2702897)\" style=\"fill: none; stroke: #6fa4ff; stroke-width: 2; stroke-linecap: square\"/>\n   </g>\n   <g id=\"patch_6\">\n    <path d=\"M 73.153036 65.930812 \nL 102.696186 65.930812 \nL 102.696186 36.387662 \nL 73.153036 36.387662 \nz\n\" clip-path=\"url(#pd9e2702897)\" style=\"fill: #bb8bff; stroke: #bb8bff; stroke-width: 1.5; stroke-linejoin: miter\"/>\n   </g>\n   <g id=\"patch_7\">\n    <path d=\"M 118.604036 65.930812 \nL 148.147185 65.930812 \nL 148.147185 36.387662 \nL 118.604036 36.387662 \nz\n\" clip-path=\"url(#pd9e2702897)\" style=\"fill: #6fa4ff; stroke: #6fa4ff; stroke-width: 1.5; stroke-linejoin: miter\"/>\n   </g>\n   <g id=\"patch_8\">\n    <path d=\"M 164.055035 65.930812 \nL 193.598185 65.930812 \nL 193.598185 36.387662 \nL 164.055035 36.387662 \nz\n\" clip-path=\"url(#pd9e2702897)\" style=\"fill: #bb8bff; stroke: #bb8bff; stroke-width: 1.5; stroke-linejoin: miter\"/>\n   </g>\n   <g id=\"patch_9\">\n    <path d=\"M 209.506034 65.930812 \nL 239.049184 65.930812 \nL 239.049184 36.387662 \nL 209.506034 36.387662 \nz\n\" clip-path=\"url(#pd9e2702897)\" style=\"fill: #6fa4ff; stroke: #6fa4ff; stroke-width: 1.5; stroke-linejoin: miter\"/>\n   </g>\n   <g id=\"patch_10\">\n    <path d=\"M 254.957034 65.930812 \nL 284.500183 65.930812 \nL 284.500183 36.387662 \nL 254.957034 36.387662 \nz\n\" clip-path=\"url(#pd9e2702897)\" style=\"fill: #bb8bff; stroke: #bb8bff; stroke-width: 1.5; stroke-linejoin: miter\"/>\n   </g>\n   <g id=\"patch_11\">\n    <path d=\"M 345.859033 65.930812 \nL 375.402182 65.930812 \nL 375.402182 36.387662 \nL 345.859033 36.387662 \nz\n\" clip-path=\"url(#pd9e2702897)\" style=\"fill: #bb8bff; stroke: #bb8bff; stroke-width: 1.5; stroke-linejoin: miter\"/>\n   </g>\n   <g id=\"patch_12\">\n    <path d=\"M 451.532606 55.590709 \nC 452.707846 55.590709 453.83511 55.123782 454.66613 54.292761 \nC 455.497151 53.461741 455.964079 52.334477 455.964079 51.159237 \nC 455.964079 49.983997 455.497151 48.856733 454.66613 48.025713 \nC 453.83511 47.194692 452.707846 46.727765 451.532606 46.727765 \nC 450.357366 46.727765 449.230102 47.194692 448.399082 48.025713 \nC 447.568062 48.856733 447.101134 49.983997 447.101134 51.159237 \nC 447.101134 52.334477 447.568062 53.461741 448.399082 54.292761 \nC 449.230102 55.123782 450.357366 55.590709 451.532606 55.590709 \nz\n\" clip-path=\"url(#pd9e2702897)\" style=\"fill: #6fa4ff; stroke: #6fa4ff; stroke-width: 1.5; stroke-linejoin: miter\"/>\n   </g>\n   <g id=\"patch_13\">\n    <path d=\"M 451.532606 106.950339 \nC 454.274833 106.950339 456.905115 105.86084 458.844163 103.921793 \nC 460.78321 101.982745 461.872709 99.352464 461.872709 96.610236 \nC 461.872709 93.868009 460.78321 91.237727 458.844163 89.29868 \nC 456.905115 87.359632 454.274833 86.270134 451.532606 86.270134 \nC 448.790379 86.270134 446.160097 87.359632 444.22105 89.29868 \nC 442.282002 91.237727 441.192504 93.868009 441.192504 96.610236 \nC 441.192504 99.352464 442.282002 101.982745 444.22105 103.921793 \nC 446.160097 105.86084 448.790379 106.950339 451.532606 106.950339 \nz\n\" clip-path=\"url(#pd9e2702897)\" style=\"fill: #6fa4ff; stroke: #6fa4ff; stroke-width: 2; stroke-linejoin: miter\"/>\n   </g>\n   <g id=\"patch_14\">\n    <path d=\"M 482.212031 111.381811 \nL 511.75518 111.381811 \nL 511.75518 81.838662 \nL 482.212031 81.838662 \nz\n\" clip-path=\"url(#pd9e2702897)\" style=\"fill: #bb8bff; stroke: #bb8bff; stroke-width: 1.5; stroke-linejoin: miter\"/>\n   </g>\n   <g id=\"patch_15\">\n    <path d=\"M 542.434605 55.590709 \nC 543.609845 55.590709 544.737109 55.123782 545.568129 54.292761 \nC 546.39915 53.461741 546.866077 52.334477 546.866077 51.159237 \nC 546.866077 49.983997 546.39915 48.856733 545.568129 48.025713 \nC 544.737109 47.194692 543.609845 46.727765 542.434605 46.727765 \nC 541.259365 46.727765 540.132101 47.194692 539.301081 48.025713 \nC 538.47006 48.856733 538.003133 49.983997 538.003133 51.159237 \nC 538.003133 52.334477 538.47006 53.461741 539.301081 54.292761 \nC 540.132101 55.123782 541.259365 55.590709 542.434605 55.590709 \nz\n\" clip-path=\"url(#pd9e2702897)\" style=\"fill: #6fa4ff; stroke: #6fa4ff; stroke-width: 1.5; stroke-linejoin: miter\"/>\n   </g>\n   <g id=\"patch_16\">\n    <path d=\"M 542.434605 106.950339 \nC 545.176832 106.950339 547.807114 105.86084 549.746161 103.921793 \nC 551.685209 101.982745 552.774707 99.352464 552.774707 96.610236 \nC 552.774707 93.868009 551.685209 91.237727 549.746161 89.29868 \nC 547.807114 87.359632 545.176832 86.270134 542.434605 86.270134 \nC 539.692378 86.270134 537.062096 87.359632 535.123048 89.29868 \nC 533.184001 91.237727 532.094503 93.868009 532.094503 96.610236 \nC 532.094503 99.352464 533.184001 101.982745 535.123048 103.921793 \nC 537.062096 105.86084 539.692378 106.950339 542.434605 106.950339 \nz\n\" clip-path=\"url(#pd9e2702897)\" style=\"fill: #6fa4ff; stroke: #6fa4ff; stroke-width: 2; stroke-linejoin: miter\"/>\n   </g>\n   <g id=\"text_2\">\n    <g clip-path=\"url(#pd9e2702897)\">\n     <!-- ${q}_{0}$ -->\n     <g transform=\"translate(36.253371 55.610214)scale(0.1625 -0.1625)\">\n      <defs>\n       <path id=\"DejaVuSans-Oblique-71\" d=\"M 2669 525 \nQ 2438 222 2123 65 \nQ 1809 -91 1428 -91 \nQ 897 -91 595 267 \nQ 294 625 294 1253 \nQ 294 1759 480 2231 \nQ 666 2703 1013 3078 \nQ 1238 3322 1530 3453 \nQ 1822 3584 2144 3584 \nQ 2531 3584 2781 3431 \nQ 3031 3278 3144 2969 \nL 3244 3494 \nL 3822 3494 \nL 2888 -1319 \nL 2309 -1319 \nL 2669 525 \nz\nM 891 1338 \nQ 891 875 1084 633 \nQ 1278 391 1644 391 \nQ 2188 391 2572 911 \nQ 2956 1431 2956 2175 \nQ 2956 2625 2757 2864 \nQ 2559 3103 2188 3103 \nQ 1916 3103 1684 2976 \nQ 1453 2850 1281 2606 \nQ 1100 2350 995 2006 \nQ 891 1663 891 1338 \nz\n\" transform=\"scale(0.015625)\"/>\n       <path id=\"DejaVuSans-30\" d=\"M 2034 4250 \nQ 1547 4250 1301 3770 \nQ 1056 3291 1056 2328 \nQ 1056 1369 1301 889 \nQ 1547 409 2034 409 \nQ 2525 409 2770 889 \nQ 3016 1369 3016 2328 \nQ 3016 3291 2770 3770 \nQ 2525 4250 2034 4250 \nz\nM 2034 4750 \nQ 2819 4750 3233 4129 \nQ 3647 3509 3647 2328 \nQ 3647 1150 3233 529 \nQ 2819 -91 2034 -91 \nQ 1250 -91 836 529 \nQ 422 1150 422 2328 \nQ 422 3509 836 4129 \nQ 1250 4750 2034 4750 \nz\n\" transform=\"scale(0.015625)\"/>\n      </defs>\n      <use xlink:href=\"#DejaVuSans-Oblique-71\"/>\n      <use xlink:href=\"#DejaVuSans-30\" transform=\"translate(63.476562 -16.40625)scale(0.7)\"/>\n     </g>\n    </g>\n   </g>\n   <g id=\"text_3\">\n    <g clip-path=\"url(#pd9e2702897)\">\n     <!-- ${q}_{1}$ -->\n     <g transform=\"translate(36.253371 101.061213)scale(0.1625 -0.1625)\">\n      <defs>\n       <path id=\"DejaVuSans-31\" d=\"M 794 531 \nL 1825 531 \nL 1825 4091 \nL 703 3866 \nL 703 4441 \nL 1819 4666 \nL 2450 4666 \nL 2450 531 \nL 3481 531 \nL 3481 0 \nL 794 0 \nL 794 531 \nz\n\" transform=\"scale(0.015625)\"/>\n      </defs>\n      <use xlink:href=\"#DejaVuSans-Oblique-71\"/>\n      <use xlink:href=\"#DejaVuSans-31\" transform=\"translate(63.476562 -16.40625)scale(0.7)\"/>\n     </g>\n    </g>\n   </g>\n   <g id=\"text_4\">\n    <g clip-path=\"url(#pd9e2702897)\">\n     <!-- $\\pi$/2 -->\n     <g transform=\"translate(81.764611 62.229682)scale(0.08 -0.08)\">\n      <use xlink:href=\"#DejaVuSans-Oblique-3c0\" transform=\"translate(0 0.78125)\"/>\n      <use xlink:href=\"#DejaVuSans-2f\" transform=\"translate(60.205078 0.78125)\"/>\n      <use xlink:href=\"#DejaVuSans-32\" transform=\"translate(90.271484 0.78125)\"/>\n     </g>\n    </g>\n   </g>\n   <g id=\"text_5\">\n    <g clip-path=\"url(#pd9e2702897)\">\n     <!-- $\\mathrm{R_Z}$ -->\n     <g transform=\"translate(79.994611 50.314952)scale(0.13 -0.13)\">\n      <defs>\n       <path id=\"DejaVuSans-52\" d=\"M 2841 2188 \nQ 3044 2119 3236 1894 \nQ 3428 1669 3622 1275 \nL 4263 0 \nL 3584 0 \nL 2988 1197 \nQ 2756 1666 2539 1819 \nQ 2322 1972 1947 1972 \nL 1259 1972 \nL 1259 0 \nL 628 0 \nL 628 4666 \nL 2053 4666 \nQ 2853 4666 3247 4331 \nQ 3641 3997 3641 3322 \nQ 3641 2881 3436 2590 \nQ 3231 2300 2841 2188 \nz\nM 1259 4147 \nL 1259 2491 \nL 2053 2491 \nQ 2509 2491 2742 2702 \nQ 2975 2913 2975 3322 \nQ 2975 3731 2742 3939 \nQ 2509 4147 2053 4147 \nL 1259 4147 \nz\n\" transform=\"scale(0.015625)\"/>\n       <path id=\"DejaVuSans-5a\" d=\"M 359 4666 \nL 4025 4666 \nL 4025 4184 \nL 1075 531 \nL 4097 531 \nL 4097 0 \nL 288 0 \nL 288 481 \nL 3238 4134 \nL 359 4134 \nL 359 4666 \nz\n\" transform=\"scale(0.015625)\"/>\n      </defs>\n      <use xlink:href=\"#DejaVuSans-52\" transform=\"translate(0 0.09375)\"/>\n      <use xlink:href=\"#DejaVuSans-5a\" transform=\"translate(70.439453 -16.3125)scale(0.7)\"/>\n     </g>\n    </g>\n   </g>\n   <g id=\"text_6\">\n    <g clip-path=\"url(#pd9e2702897)\">\n     <!-- $\\mathrm{\\sqrt{X}}$ -->\n     <g transform=\"translate(123.36561 55.605643)scale(0.13 -0.13)\">\n      <defs>\n       <path id=\"STIXSizeOneSym-Regular-221a\" d=\"M 6970 9933 \nL 3373 -1888 \nL 3104 -1888 \nL 1626 2918 \nQ 1555 3149 1465 3251 \nQ 1376 3354 1229 3354 \nQ 1011 3354 794 3181 \nL 717 3309 \nL 1766 4115 \nL 1926 4115 \nL 3379 -602 \nL 3405 -602 \nL 6605 9933 \nL 6970 9933 \nz\n\" transform=\"scale(0.015625)\"/>\n       <path id=\"DejaVuSans-58\" d=\"M 403 4666 \nL 1081 4666 \nL 2241 2931 \nL 3406 4666 \nL 4084 4666 \nL 2584 2425 \nL 4184 0 \nL 3506 0 \nL 2194 1984 \nL 872 0 \nL 191 0 \nL 1856 2491 \nL 403 4666 \nz\n\" transform=\"scale(0.015625)\"/>\n      </defs>\n      <use xlink:href=\"#STIXSizeOneSym-Regular-221a\" transform=\"translate(0 17.09375)scale(0.563912)\"/>\n      <use xlink:href=\"#DejaVuSans-58\" transform=\"translate(72.088364 0.84375)\"/>\n      <path d=\"M 59.588364 97.5 \nL 59.588364 103.75 \nL 153.094223 103.75 \nL 153.094223 97.5 \nL 59.588364 97.5 \nz\n\"/>\n     </g>\n    </g>\n   </g>\n   <g id=\"text_7\">\n    <g clip-path=\"url(#pd9e2702897)\">\n     <!-- $\\theta$ + $\\pi$ -->\n     <g transform=\"translate(168.06661 62.229682)scale(0.08 -0.08)\">\n      <defs>\n       <path id=\"DejaVuSans-Oblique-3b8\" d=\"M 2913 2219 \nL 925 2219 \nQ 791 1284 928 888 \nQ 1100 400 1566 400 \nQ 2034 400 2391 891 \nQ 2703 1322 2913 2219 \nz\nM 3009 2750 \nQ 3094 3638 2984 3950 \nQ 2813 4444 2353 4444 \nQ 1875 4444 1525 3956 \nQ 1250 3563 1034 2750 \nL 3009 2750 \nz\nM 2444 4913 \nQ 3194 4913 3494 4250 \nQ 3794 3591 3566 2422 \nQ 3341 1256 2781 594 \nQ 2225 -72 1475 -72 \nQ 722 -72 425 594 \nQ 128 1256 353 2422 \nQ 581 3591 1134 4250 \nQ 1691 4913 2444 4913 \nz\n\" transform=\"scale(0.015625)\"/>\n       <path id=\"DejaVuSans-2b\" d=\"M 2944 4013 \nL 2944 2272 \nL 4684 2272 \nL 4684 1741 \nL 2944 1741 \nL 2944 0 \nL 2419 0 \nL 2419 1741 \nL 678 1741 \nL 678 2272 \nL 2419 2272 \nL 2419 4013 \nL 2944 4013 \nz\n\" transform=\"scale(0.015625)\"/>\n      </defs>\n      <use xlink:href=\"#DejaVuSans-Oblique-3b8\" transform=\"translate(0 0.234375)\"/>\n      <use xlink:href=\"#DejaVuSans-20\" transform=\"translate(61.181641 0.234375)\"/>\n      <use xlink:href=\"#DejaVuSans-2b\" transform=\"translate(92.96875 0.234375)\"/>\n      <use xlink:href=\"#DejaVuSans-20\" transform=\"translate(176.757812 0.234375)\"/>\n      <use xlink:href=\"#DejaVuSans-Oblique-3c0\" transform=\"translate(208.544922 0.234375)\"/>\n     </g>\n    </g>\n   </g>\n   <g id=\"text_8\">\n    <g clip-path=\"url(#pd9e2702897)\">\n     <!-- $\\mathrm{R_Z}$ -->\n     <g transform=\"translate(170.89661 50.314952)scale(0.13 -0.13)\">\n      <use xlink:href=\"#DejaVuSans-52\" transform=\"translate(0 0.09375)\"/>\n      <use xlink:href=\"#DejaVuSans-5a\" transform=\"translate(70.439453 -16.3125)scale(0.7)\"/>\n     </g>\n    </g>\n   </g>\n   <g id=\"text_9\">\n    <g clip-path=\"url(#pd9e2702897)\">\n     <!-- $\\mathrm{\\sqrt{X}}$ -->\n     <g transform=\"translate(214.267609 55.605643)scale(0.13 -0.13)\">\n      <use xlink:href=\"#STIXSizeOneSym-Regular-221a\" transform=\"translate(0 17.09375)scale(0.563912)\"/>\n      <use xlink:href=\"#DejaVuSans-58\" transform=\"translate(72.088364 0.84375)\"/>\n      <path d=\"M 59.588364 97.5 \nL 59.588364 103.75 \nL 153.094223 103.75 \nL 153.094223 97.5 \nL 59.588364 97.5 \nz\n\"/>\n     </g>\n    </g>\n   </g>\n   <g id=\"text_10\">\n    <g clip-path=\"url(#pd9e2702897)\">\n     <!-- 5$\\pi$/2 -->\n     <g transform=\"translate(261.008609 62.229682)scale(0.08 -0.08)\">\n      <defs>\n       <path id=\"DejaVuSans-35\" d=\"M 691 4666 \nL 3169 4666 \nL 3169 4134 \nL 1269 4134 \nL 1269 2991 \nQ 1406 3038 1543 3061 \nQ 1681 3084 1819 3084 \nQ 2600 3084 3056 2656 \nQ 3513 2228 3513 1497 \nQ 3513 744 3044 326 \nQ 2575 -91 1722 -91 \nQ 1428 -91 1123 -41 \nQ 819 9 494 109 \nL 494 744 \nQ 775 591 1075 516 \nQ 1375 441 1709 441 \nQ 2250 441 2565 725 \nQ 2881 1009 2881 1497 \nQ 2881 1984 2565 2268 \nQ 2250 2553 1709 2553 \nQ 1456 2553 1204 2497 \nQ 953 2441 691 2322 \nL 691 4666 \nz\n\" transform=\"scale(0.015625)\"/>\n      </defs>\n      <use xlink:href=\"#DejaVuSans-35\" transform=\"translate(0 0.78125)\"/>\n      <use xlink:href=\"#DejaVuSans-Oblique-3c0\" transform=\"translate(63.623047 0.78125)\"/>\n      <use xlink:href=\"#DejaVuSans-2f\" transform=\"translate(123.828125 0.78125)\"/>\n      <use xlink:href=\"#DejaVuSans-32\" transform=\"translate(153.894531 0.78125)\"/>\n     </g>\n    </g>\n   </g>\n   <g id=\"text_11\">\n    <g clip-path=\"url(#pd9e2702897)\">\n     <!-- $\\mathrm{R_Z}$ -->\n     <g transform=\"translate(261.798609 50.314952)scale(0.13 -0.13)\">\n      <use xlink:href=\"#DejaVuSans-52\" transform=\"translate(0 0.09375)\"/>\n      <use xlink:href=\"#DejaVuSans-5a\" transform=\"translate(70.439453 -16.3125)scale(0.7)\"/>\n     </g>\n    </g>\n   </g>\n   <g id=\"line2d_5\">\n    <path d=\"M 315.179608 28.433737 \nL 315.179608 73.884737 \n\" clip-path=\"url(#pd9e2702897)\" style=\"fill: none; stroke-dasharray: 3.7,1.6; stroke-dashoffset: 0; stroke: #000000\"/>\n   </g>\n   <g id=\"line2d_6\">\n    <path d=\"M 315.179608 73.884737 \nL 315.179608 119.335736 \n\" clip-path=\"url(#pd9e2702897)\" style=\"fill: none; stroke-dasharray: 3.7,1.6; stroke-dashoffset: 0; stroke: #000000\"/>\n   </g>\n   <g id=\"text_12\">\n    <g clip-path=\"url(#pd9e2702897)\">\n     <!-- $\\theta$ -->\n     <g transform=\"translate(358.150607 62.229682)scale(0.08 -0.08)\">\n      <use xlink:href=\"#DejaVuSans-Oblique-3b8\" transform=\"translate(0 0.234375)\"/>\n     </g>\n    </g>\n   </g>\n   <g id=\"text_13\">\n    <g clip-path=\"url(#pd9e2702897)\">\n     <!-- $\\mathrm{R_Z}$ -->\n     <g transform=\"translate(352.700607 50.314952)scale(0.13 -0.13)\">\n      <use xlink:href=\"#DejaVuSans-52\" transform=\"translate(0 0.09375)\"/>\n      <use xlink:href=\"#DejaVuSans-5a\" transform=\"translate(70.439453 -16.3125)scale(0.7)\"/>\n     </g>\n    </g>\n   </g>\n   <g id=\"line2d_7\">\n    <path d=\"M 406.081607 28.433737 \nL 406.081607 73.884737 \n\" clip-path=\"url(#pd9e2702897)\" style=\"fill: none; stroke-dasharray: 3.7,1.6; stroke-dashoffset: 0; stroke: #000000\"/>\n   </g>\n   <g id=\"line2d_8\">\n    <path d=\"M 406.081607 73.884737 \nL 406.081607 119.335736 \n\" clip-path=\"url(#pd9e2702897)\" style=\"fill: none; stroke-dasharray: 3.7,1.6; stroke-dashoffset: 0; stroke: #000000\"/>\n   </g>\n   <g id=\"line2d_9\">\n    <path d=\"M 451.532606 102.518866 \nL 451.532606 90.701606 \n\" clip-path=\"url(#pd9e2702897)\" style=\"fill: none; stroke: #ffffff; stroke-width: 2; stroke-linecap: square\"/>\n   </g>\n   <g id=\"line2d_10\">\n    <path d=\"M 445.623976 96.610236 \nL 457.441236 96.610236 \n\" clip-path=\"url(#pd9e2702897)\" style=\"fill: none; stroke: #ffffff; stroke-width: 2; stroke-linecap: square\"/>\n   </g>\n   <g id=\"text_14\">\n    <g clip-path=\"url(#pd9e2702897)\">\n     <!-- $\\theta$ -->\n     <g transform=\"translate(494.503606 107.680681)scale(0.08 -0.08)\">\n      <use xlink:href=\"#DejaVuSans-Oblique-3b8\" transform=\"translate(0 0.234375)\"/>\n     </g>\n    </g>\n   </g>\n   <g id=\"text_15\">\n    <g clip-path=\"url(#pd9e2702897)\">\n     <!-- $\\mathrm{R_Z}$ -->\n     <g transform=\"translate(489.053606 95.765951)scale(0.13 -0.13)\">\n      <use xlink:href=\"#DejaVuSans-52\" transform=\"translate(0 0.09375)\"/>\n      <use xlink:href=\"#DejaVuSans-5a\" transform=\"translate(70.439453 -16.3125)scale(0.7)\"/>\n     </g>\n    </g>\n   </g>\n   <g id=\"line2d_11\">\n    <path d=\"M 542.434605 102.518866 \nL 542.434605 90.701606 \n\" clip-path=\"url(#pd9e2702897)\" style=\"fill: none; stroke: #ffffff; stroke-width: 2; stroke-linecap: square\"/>\n   </g>\n   <g id=\"line2d_12\">\n    <path d=\"M 536.525975 96.610236 \nL 548.343235 96.610236 \n\" clip-path=\"url(#pd9e2702897)\" style=\"fill: none; stroke: #ffffff; stroke-width: 2; stroke-linecap: square\"/>\n   </g>\n  </g>\n </g>\n <defs>\n  <clipPath id=\"pd9e2702897\">\n   <rect x=\"7.2\" y=\"14.798437\" width=\"565.232265\" height=\"109.082399\"/>\n  </clipPath>\n </defs>\n</svg>\n",
      "text/plain": [
       "<Figure size 748.652x144.48 with 1 Axes>"
      ]
     },
     "execution_count": 2,
     "metadata": {},
     "output_type": "execute_result"
    }
   ],
   "source": [
    "basis_gates = ['id', 'rz', 'sx', 'x', 'cx', 'reset'] # see Notebook 3\n",
    "\n",
    "qc_transpiled = transpile(qc, basis_gates=basis_gates)\n",
    "qc_transpiled.draw()"
   ]
  },
  {
   "cell_type": "markdown",
   "id": "3056bddc",
   "metadata": {},
   "source": [
    "Note that the $\\RZ$ gate is a virtual gate, see [link1](https://qiskit.org/documentation/stable/0.39/stubs/qiskit.circuit.library.RZGate.html#qiskit.circuit.library.RZGate), [link2](https://arxiv.org/abs/1612.00858), and let us thus call the set of basis gates without $\\RZ$ the **hardware gates**. Then, we see that $\\RX$ requires two single-qubit hardware gates, the $\\RZ$ gate needs none, and $\\RZZ$ needs **two two-qubit hardware gates** (i.e. the two $\\CNOT$ gates). Recalling from Notebook 3 that the **$\\CNOT$ gate** is the **most erroneous hardware gate** (around one magnitude higher error rate than the two single qubit gates) explains why we have to lay our focus on the $\\RZZ$ gates when analyzing how well a QAOA circuit can be executed on real quantum hardware."
   ]
  },
  {
   "cell_type": "markdown",
   "id": "e17aabd0",
   "metadata": {},
   "source": [
    "## $\\CNOT$ Gates and Coupling Map"
   ]
  },
  {
   "cell_type": "markdown",
   "id": "976ee512",
   "metadata": {},
   "source": [
    "Recall from Notebook 3 that not all qubits in a quantum computer are connected with each other (see coupling map below). So, let's see how a $\\CNOT$ gate is transpiled for two qubits that are not connected."
   ]
  },
  {
   "cell_type": "code",
   "execution_count": 3,
   "id": "024686d4",
   "metadata": {},
   "outputs": [
    {
     "data": {
      "image/svg+xml": "<?xml version=\"1.0\" encoding=\"utf-8\" standalone=\"no\"?>\n<!DOCTYPE svg PUBLIC \"-//W3C//DTD SVG 1.1//EN\"\n  \"http://www.w3.org/Graphics/SVG/1.1/DTD/svg11.dtd\">\n<svg xmlns:xlink=\"http://www.w3.org/1999/xlink\" width=\"125.232035pt\" height=\"168.933398pt\" viewBox=\"0 0 125.232035 168.933398\" xmlns=\"http://www.w3.org/2000/svg\" version=\"1.1\">\n <metadata>\n  <rdf:RDF xmlns:dc=\"http://purl.org/dc/elements/1.1/\" xmlns:cc=\"http://creativecommons.org/ns#\" xmlns:rdf=\"http://www.w3.org/1999/02/22-rdf-syntax-ns#\">\n   <cc:Work>\n    <dc:type rdf:resource=\"http://purl.org/dc/dcmitype/StillImage\"/>\n    <dc:date>2022-12-09T15:19:41.742927</dc:date>\n    <dc:format>image/svg+xml</dc:format>\n    <dc:creator>\n     <cc:Agent>\n      <dc:title>Matplotlib v3.5.2, https://matplotlib.org/</dc:title>\n     </cc:Agent>\n    </dc:creator>\n   </cc:Work>\n  </rdf:RDF>\n </metadata>\n <defs>\n  <style type=\"text/css\">*{stroke-linejoin: round; stroke-linecap: butt}</style>\n </defs>\n <g id=\"figure_1\">\n  <g id=\"patch_1\">\n   <path d=\"M 0 168.933398 \nL 125.232035 168.933398 \nL 125.232035 0 \nL 0 0 \nz\n\" style=\"fill: #ffffff\"/>\n  </g>\n  <g id=\"axes_1\">\n   <g id=\"line2d_1\">\n    <path d=\"M 63.490835 43.5608 \nL 113.486935 43.5608 \n\" clip-path=\"url(#p17920af168)\" style=\"fill: none; stroke: #000000; stroke-width: 2; stroke-linecap: square\"/>\n   </g>\n   <g id=\"line2d_2\">\n    <path d=\"M 63.490835 89.011799 \nL 113.486935 89.011799 \n\" clip-path=\"url(#p17920af168)\" style=\"fill: none; stroke: #000000; stroke-width: 2; stroke-linecap: square\"/>\n   </g>\n   <g id=\"line2d_3\">\n    <path d=\"M 63.490835 134.462798 \nL 113.486935 134.462798 \n\" clip-path=\"url(#p17920af168)\" style=\"fill: none; stroke: #000000; stroke-width: 2; stroke-linecap: square\"/>\n   </g>\n   <g id=\"line2d_4\">\n    <path d=\"M 88.034375 134.462798 \nL 88.034375 43.5608 \n\" clip-path=\"url(#p17920af168)\" style=\"fill: none; stroke: #6fa4ff; stroke-width: 2; stroke-linecap: square\"/>\n   </g>\n   <g id=\"patch_2\">\n    <path d=\"M 88.034375 47.992272 \nC 89.209615 47.992272 90.336879 47.525344 91.167899 46.694324 \nC 91.99892 45.863303 92.465848 44.73604 92.465848 43.5608 \nC 92.465848 42.385559 91.99892 41.258296 91.167899 40.427275 \nC 90.336879 39.596255 89.209615 39.129327 88.034375 39.129327 \nC 86.859135 39.129327 85.731871 39.596255 84.900851 40.427275 \nC 84.069831 41.258296 83.602903 42.385559 83.602903 43.5608 \nC 83.602903 44.73604 84.069831 45.863303 84.900851 46.694324 \nC 85.731871 47.525344 86.859135 47.992272 88.034375 47.992272 \nz\n\" clip-path=\"url(#p17920af168)\" style=\"fill: #6fa4ff; stroke: #6fa4ff; stroke-width: 1.5; stroke-linejoin: miter\"/>\n   </g>\n   <g id=\"patch_3\">\n    <path d=\"M 88.034375 144.802901 \nC 90.776602 144.802901 93.406884 143.713402 95.345932 141.774355 \nC 97.284979 139.835307 98.374478 137.205026 98.374478 134.462798 \nC 98.374478 131.720571 97.284979 129.090289 95.345932 127.151242 \nC 93.406884 125.212194 90.776602 124.122696 88.034375 124.122696 \nC 85.292148 124.122696 82.661866 125.212194 80.722819 127.151242 \nC 78.783771 129.090289 77.694273 131.720571 77.694273 134.462798 \nC 77.694273 137.205026 78.783771 139.835307 80.722819 141.774355 \nC 82.661866 143.713402 85.292148 144.802901 88.034375 144.802901 \nz\n\" clip-path=\"url(#p17920af168)\" style=\"fill: #6fa4ff; stroke: #6fa4ff; stroke-width: 2; stroke-linejoin: miter\"/>\n   </g>\n   <g id=\"text_1\">\n    <g clip-path=\"url(#p17920af168)\">\n     <!-- ${q}_{0}$ -->\n     <g transform=\"translate(36.363136 48.011776)scale(0.1625 -0.1625)\">\n      <defs>\n       <path id=\"DejaVuSans-Oblique-71\" d=\"M 2669 525 \nQ 2438 222 2123 65 \nQ 1809 -91 1428 -91 \nQ 897 -91 595 267 \nQ 294 625 294 1253 \nQ 294 1759 480 2231 \nQ 666 2703 1013 3078 \nQ 1238 3322 1530 3453 \nQ 1822 3584 2144 3584 \nQ 2531 3584 2781 3431 \nQ 3031 3278 3144 2969 \nL 3244 3494 \nL 3822 3494 \nL 2888 -1319 \nL 2309 -1319 \nL 2669 525 \nz\nM 891 1338 \nQ 891 875 1084 633 \nQ 1278 391 1644 391 \nQ 2188 391 2572 911 \nQ 2956 1431 2956 2175 \nQ 2956 2625 2757 2864 \nQ 2559 3103 2188 3103 \nQ 1916 3103 1684 2976 \nQ 1453 2850 1281 2606 \nQ 1100 2350 995 2006 \nQ 891 1663 891 1338 \nz\n\" transform=\"scale(0.015625)\"/>\n       <path id=\"DejaVuSans-30\" d=\"M 2034 4250 \nQ 1547 4250 1301 3770 \nQ 1056 3291 1056 2328 \nQ 1056 1369 1301 889 \nQ 1547 409 2034 409 \nQ 2525 409 2770 889 \nQ 3016 1369 3016 2328 \nQ 3016 3291 2770 3770 \nQ 2525 4250 2034 4250 \nz\nM 2034 4750 \nQ 2819 4750 3233 4129 \nQ 3647 3509 3647 2328 \nQ 3647 1150 3233 529 \nQ 2819 -91 2034 -91 \nQ 1250 -91 836 529 \nQ 422 1150 422 2328 \nQ 422 3509 836 4129 \nQ 1250 4750 2034 4750 \nz\n\" transform=\"scale(0.015625)\"/>\n      </defs>\n      <use xlink:href=\"#DejaVuSans-Oblique-71\"/>\n      <use xlink:href=\"#DejaVuSans-30\" transform=\"translate(63.476562 -16.40625)scale(0.7)\"/>\n     </g>\n    </g>\n   </g>\n   <g id=\"text_2\">\n    <g clip-path=\"url(#p17920af168)\">\n     <!-- ${q}_{1}$ -->\n     <g transform=\"translate(36.363136 93.462775)scale(0.1625 -0.1625)\">\n      <defs>\n       <path id=\"DejaVuSans-31\" d=\"M 794 531 \nL 1825 531 \nL 1825 4091 \nL 703 3866 \nL 703 4441 \nL 1819 4666 \nL 2450 4666 \nL 2450 531 \nL 3481 531 \nL 3481 0 \nL 794 0 \nL 794 531 \nz\n\" transform=\"scale(0.015625)\"/>\n      </defs>\n      <use xlink:href=\"#DejaVuSans-Oblique-71\"/>\n      <use xlink:href=\"#DejaVuSans-31\" transform=\"translate(63.476562 -16.40625)scale(0.7)\"/>\n     </g>\n    </g>\n   </g>\n   <g id=\"text_3\">\n    <g clip-path=\"url(#p17920af168)\">\n     <!-- ${q}_{2}$ -->\n     <g transform=\"translate(36.363136 138.913775)scale(0.1625 -0.1625)\">\n      <defs>\n       <path id=\"DejaVuSans-32\" d=\"M 1228 531 \nL 3431 531 \nL 3431 0 \nL 469 0 \nL 469 531 \nQ 828 903 1448 1529 \nQ 2069 2156 2228 2338 \nQ 2531 2678 2651 2914 \nQ 2772 3150 2772 3378 \nQ 2772 3750 2511 3984 \nQ 2250 4219 1831 4219 \nQ 1534 4219 1204 4116 \nQ 875 4013 500 3803 \nL 500 4441 \nQ 881 4594 1212 4672 \nQ 1544 4750 1819 4750 \nQ 2544 4750 2975 4387 \nQ 3406 4025 3406 3419 \nQ 3406 3131 3298 2873 \nQ 3191 2616 2906 2266 \nQ 2828 2175 2409 1742 \nQ 1991 1309 1228 531 \nz\n\" transform=\"scale(0.015625)\"/>\n      </defs>\n      <use xlink:href=\"#DejaVuSans-Oblique-71\"/>\n      <use xlink:href=\"#DejaVuSans-32\" transform=\"translate(63.476562 -16.40625)scale(0.7)\"/>\n     </g>\n    </g>\n   </g>\n   <g id=\"line2d_5\">\n    <path d=\"M 88.034375 140.371428 \nL 88.034375 128.554168 \n\" clip-path=\"url(#p17920af168)\" style=\"fill: none; stroke: #ffffff; stroke-width: 2; stroke-linecap: square\"/>\n   </g>\n   <g id=\"line2d_6\">\n    <path d=\"M 82.125745 134.462798 \nL 93.943005 134.462798 \n\" clip-path=\"url(#p17920af168)\" style=\"fill: none; stroke: #ffffff; stroke-width: 2; stroke-linecap: square\"/>\n   </g>\n  </g>\n </g>\n <defs>\n  <clipPath id=\"p17920af168\">\n   <rect x=\"7.2\" y=\"7.2\" width=\"110.832035\" height=\"154.533398\"/>\n  </clipPath>\n </defs>\n</svg>\n",
      "text/plain": [
       "<Figure size 146.797x204.68 with 1 Axes>"
      ]
     },
     "execution_count": 3,
     "metadata": {},
     "output_type": "execute_result"
    }
   ],
   "source": [
    "qc = QuantumCircuit(3)\n",
    "qc.cx(0, 2)\n",
    "qc.draw()"
   ]
  },
  {
   "cell_type": "code",
   "execution_count": 4,
   "id": "e7798a19",
   "metadata": {},
   "outputs": [
    {
     "data": {
      "image/svg+xml": "<?xml version=\"1.0\" encoding=\"utf-8\" standalone=\"no\"?>\n<!DOCTYPE svg PUBLIC \"-//W3C//DTD SVG 1.1//EN\"\n  \"http://www.w3.org/Graphics/SVG/1.1/DTD/svg11.dtd\">\n<svg xmlns:xlink=\"http://www.w3.org/1999/xlink\" width=\"199.321027pt\" height=\"168.933398pt\" viewBox=\"0 0 199.321027 168.933398\" xmlns=\"http://www.w3.org/2000/svg\" version=\"1.1\">\n <metadata>\n  <rdf:RDF xmlns:dc=\"http://purl.org/dc/elements/1.1/\" xmlns:cc=\"http://creativecommons.org/ns#\" xmlns:rdf=\"http://www.w3.org/1999/02/22-rdf-syntax-ns#\">\n   <cc:Work>\n    <dc:type rdf:resource=\"http://purl.org/dc/dcmitype/StillImage\"/>\n    <dc:date>2022-12-09T15:19:41.924541</dc:date>\n    <dc:format>image/svg+xml</dc:format>\n    <dc:creator>\n     <cc:Agent>\n      <dc:title>Matplotlib v3.5.2, https://matplotlib.org/</dc:title>\n     </cc:Agent>\n    </dc:creator>\n   </cc:Work>\n  </rdf:RDF>\n </metadata>\n <defs>\n  <style type=\"text/css\">*{stroke-linejoin: round; stroke-linecap: butt}</style>\n </defs>\n <g id=\"figure_1\">\n  <g id=\"patch_1\">\n   <path d=\"M 0 168.933398 \nL 199.321027 168.933398 \nL 199.321027 0 \nL 0 0 \nz\n\" style=\"fill: #ffffff\"/>\n  </g>\n  <g id=\"axes_1\">\n   <g id=\"line2d_1\">\n    <path d=\"M 92.128828 43.5608 \nL 187.575927 43.5608 \n\" clip-path=\"url(#p3d129b1db9)\" style=\"fill: none; stroke: #000000; stroke-width: 2; stroke-linecap: square\"/>\n   </g>\n   <g id=\"line2d_2\">\n    <path d=\"M 92.128828 89.011799 \nL 187.575927 89.011799 \n\" clip-path=\"url(#p3d129b1db9)\" style=\"fill: none; stroke: #000000; stroke-width: 2; stroke-linecap: square\"/>\n   </g>\n   <g id=\"line2d_3\">\n    <path d=\"M 92.128828 134.462798 \nL 187.575927 134.462798 \n\" clip-path=\"url(#p3d129b1db9)\" style=\"fill: none; stroke: #000000; stroke-width: 2; stroke-linecap: square\"/>\n   </g>\n   <g id=\"line2d_4\">\n    <path d=\"M 116.672368 89.011799 \nL 116.672368 134.462798 \n\" clip-path=\"url(#p3d129b1db9)\" style=\"fill: none; stroke: #6fa4ff; stroke-width: 2; stroke-linecap: square\"/>\n   </g>\n   <g id=\"line2d_5\">\n    <path d=\"M 162.123368 89.011799 \nL 162.123368 43.5608 \n\" clip-path=\"url(#p3d129b1db9)\" style=\"fill: none; stroke: #6fa4ff; stroke-width: 2; stroke-linecap: square\"/>\n   </g>\n   <g id=\"line2d_6\">\n    <path d=\"M 110.763738 94.920429 \nL 122.580998 83.103169 \n\" clip-path=\"url(#p3d129b1db9)\" style=\"fill: none; stroke: #6fa4ff; stroke-width: 2; stroke-linecap: square\"/>\n   </g>\n   <g id=\"line2d_7\">\n    <path d=\"M 110.763738 83.103169 \nL 122.580998 94.920429 \n\" clip-path=\"url(#p3d129b1db9)\" style=\"fill: none; stroke: #6fa4ff; stroke-width: 2; stroke-linecap: square\"/>\n   </g>\n   <g id=\"line2d_8\">\n    <path d=\"M 110.763738 140.371428 \nL 122.580998 128.554168 \n\" clip-path=\"url(#p3d129b1db9)\" style=\"fill: none; stroke: #6fa4ff; stroke-width: 2; stroke-linecap: square\"/>\n   </g>\n   <g id=\"line2d_9\">\n    <path d=\"M 110.763738 128.554168 \nL 122.580998 140.371428 \n\" clip-path=\"url(#p3d129b1db9)\" style=\"fill: none; stroke: #6fa4ff; stroke-width: 2; stroke-linecap: square\"/>\n   </g>\n   <g id=\"patch_2\">\n    <path d=\"M 162.123368 47.992272 \nC 163.298608 47.992272 164.425871 47.525344 165.256892 46.694324 \nC 166.087912 45.863303 166.55484 44.73604 166.55484 43.5608 \nC 166.55484 42.385559 166.087912 41.258296 165.256892 40.427275 \nC 164.425871 39.596255 163.298608 39.129327 162.123368 39.129327 \nC 160.948127 39.129327 159.820864 39.596255 158.989843 40.427275 \nC 158.158823 41.258296 157.691895 42.385559 157.691895 43.5608 \nC 157.691895 44.73604 158.158823 45.863303 158.989843 46.694324 \nC 159.820864 47.525344 160.948127 47.992272 162.123368 47.992272 \nz\n\" clip-path=\"url(#p3d129b1db9)\" style=\"fill: #6fa4ff; stroke: #6fa4ff; stroke-width: 1.5; stroke-linejoin: miter\"/>\n   </g>\n   <g id=\"patch_3\">\n    <path d=\"M 162.123368 99.351901 \nC 164.865595 99.351901 167.495877 98.262403 169.434924 96.323355 \nC 171.373971 94.384308 172.46347 91.754026 172.46347 89.011799 \nC 172.46347 86.269572 171.373971 83.63929 169.434924 81.700242 \nC 167.495877 79.761195 164.865595 78.671697 162.123368 78.671697 \nC 159.38114 78.671697 156.750858 79.761195 154.811811 81.700242 \nC 152.872764 83.63929 151.783265 86.269572 151.783265 89.011799 \nC 151.783265 91.754026 152.872764 94.384308 154.811811 96.323355 \nC 156.750858 98.262403 159.38114 99.351901 162.123368 99.351901 \nz\n\" clip-path=\"url(#p3d129b1db9)\" style=\"fill: #6fa4ff; stroke: #6fa4ff; stroke-width: 2; stroke-linejoin: miter\"/>\n   </g>\n   <g id=\"text_1\">\n    <g clip-path=\"url(#p3d129b1db9)\">\n     <!-- ${q}_{0}\\;\\mapsto\\;{0}$ -->\n     <g transform=\"translate(25.838629 48.011776)scale(0.1625 -0.1625)\">\n      <defs>\n       <path id=\"DejaVuSans-Oblique-71\" d=\"M 2669 525 \nQ 2438 222 2123 65 \nQ 1809 -91 1428 -91 \nQ 897 -91 595 267 \nQ 294 625 294 1253 \nQ 294 1759 480 2231 \nQ 666 2703 1013 3078 \nQ 1238 3322 1530 3453 \nQ 1822 3584 2144 3584 \nQ 2531 3584 2781 3431 \nQ 3031 3278 3144 2969 \nL 3244 3494 \nL 3822 3494 \nL 2888 -1319 \nL 2309 -1319 \nL 2669 525 \nz\nM 891 1338 \nQ 891 875 1084 633 \nQ 1278 391 1644 391 \nQ 2188 391 2572 911 \nQ 2956 1431 2956 2175 \nQ 2956 2625 2757 2864 \nQ 2559 3103 2188 3103 \nQ 1916 3103 1684 2976 \nQ 1453 2850 1281 2606 \nQ 1100 2350 995 2006 \nQ 891 1663 891 1338 \nz\n\" transform=\"scale(0.015625)\"/>\n       <path id=\"DejaVuSans-30\" d=\"M 2034 4250 \nQ 1547 4250 1301 3770 \nQ 1056 3291 1056 2328 \nQ 1056 1369 1301 889 \nQ 1547 409 2034 409 \nQ 2525 409 2770 889 \nQ 3016 1369 3016 2328 \nQ 3016 3291 2770 3770 \nQ 2525 4250 2034 4250 \nz\nM 2034 4750 \nQ 2819 4750 3233 4129 \nQ 3647 3509 3647 2328 \nQ 3647 1150 3233 529 \nQ 2819 -91 2034 -91 \nQ 1250 -91 836 529 \nQ 422 1150 422 2328 \nQ 422 3509 836 4129 \nQ 1250 4750 2034 4750 \nz\n\" transform=\"scale(0.015625)\"/>\n       <path id=\"DejaVuSans-21a6\" d=\"M 4175 1741 \nL 897 1741 \nL 897 663 \nL 366 663 \nL 366 3350 \nL 897 3350 \nL 897 2272 \nL 4175 2272 \nL 3447 3000 \nL 3822 3375 \nL 5050 2147 \nL 5050 1866 \nL 3822 638 \nL 3447 1013 \nL 4175 1741 \nz\n\" transform=\"scale(0.015625)\"/>\n      </defs>\n      <use xlink:href=\"#DejaVuSans-Oblique-71\" transform=\"translate(0 0.78125)\"/>\n      <use xlink:href=\"#DejaVuSans-30\" transform=\"translate(63.476562 -15.625)scale(0.7)\"/>\n      <use xlink:href=\"#DejaVuSans-21a6\" transform=\"translate(157.288628 0.78125)\"/>\n      <use xlink:href=\"#DejaVuSans-30\" transform=\"translate(287.619248 0.78125)\"/>\n     </g>\n    </g>\n   </g>\n   <g id=\"text_2\">\n    <g clip-path=\"url(#p3d129b1db9)\">\n     <!-- ${q}_{1}\\;\\mapsto\\;{1}$ -->\n     <g transform=\"translate(25.838629 93.462775)scale(0.1625 -0.1625)\">\n      <defs>\n       <path id=\"DejaVuSans-31\" d=\"M 794 531 \nL 1825 531 \nL 1825 4091 \nL 703 3866 \nL 703 4441 \nL 1819 4666 \nL 2450 4666 \nL 2450 531 \nL 3481 531 \nL 3481 0 \nL 794 0 \nL 794 531 \nz\n\" transform=\"scale(0.015625)\"/>\n      </defs>\n      <use xlink:href=\"#DejaVuSans-Oblique-71\" transform=\"translate(0 0.09375)\"/>\n      <use xlink:href=\"#DejaVuSans-31\" transform=\"translate(63.476562 -16.3125)scale(0.7)\"/>\n      <use xlink:href=\"#DejaVuSans-21a6\" transform=\"translate(157.288628 0.09375)\"/>\n      <use xlink:href=\"#DejaVuSans-31\" transform=\"translate(287.619248 0.09375)\"/>\n     </g>\n    </g>\n   </g>\n   <g id=\"text_3\">\n    <g clip-path=\"url(#p3d129b1db9)\">\n     <!-- ${q}_{2}\\;\\mapsto\\;{2}$ -->\n     <g transform=\"translate(25.838629 138.913775)scale(0.1625 -0.1625)\">\n      <defs>\n       <path id=\"DejaVuSans-32\" d=\"M 1228 531 \nL 3431 531 \nL 3431 0 \nL 469 0 \nL 469 531 \nQ 828 903 1448 1529 \nQ 2069 2156 2228 2338 \nQ 2531 2678 2651 2914 \nQ 2772 3150 2772 3378 \nQ 2772 3750 2511 3984 \nQ 2250 4219 1831 4219 \nQ 1534 4219 1204 4116 \nQ 875 4013 500 3803 \nL 500 4441 \nQ 881 4594 1212 4672 \nQ 1544 4750 1819 4750 \nQ 2544 4750 2975 4387 \nQ 3406 4025 3406 3419 \nQ 3406 3131 3298 2873 \nQ 3191 2616 2906 2266 \nQ 2828 2175 2409 1742 \nQ 1991 1309 1228 531 \nz\n\" transform=\"scale(0.015625)\"/>\n      </defs>\n      <use xlink:href=\"#DejaVuSans-Oblique-71\" transform=\"translate(0 0.78125)\"/>\n      <use xlink:href=\"#DejaVuSans-32\" transform=\"translate(63.476562 -15.625)scale(0.7)\"/>\n      <use xlink:href=\"#DejaVuSans-21a6\" transform=\"translate(157.288628 0.78125)\"/>\n      <use xlink:href=\"#DejaVuSans-32\" transform=\"translate(287.619248 0.78125)\"/>\n     </g>\n    </g>\n   </g>\n   <g id=\"line2d_10\">\n    <path d=\"M 162.123368 94.920429 \nL 162.123368 83.103169 \n\" clip-path=\"url(#p3d129b1db9)\" style=\"fill: none; stroke: #ffffff; stroke-width: 2; stroke-linecap: square\"/>\n   </g>\n   <g id=\"line2d_11\">\n    <path d=\"M 156.214738 89.011799 \nL 168.031997 89.011799 \n\" clip-path=\"url(#p3d129b1db9)\" style=\"fill: none; stroke: #ffffff; stroke-width: 2; stroke-linecap: square\"/>\n   </g>\n  </g>\n </g>\n <defs>\n  <clipPath id=\"p3d129b1db9\">\n   <rect x=\"7.2\" y=\"7.2\" width=\"184.921027\" height=\"154.533398\"/>\n  </clipPath>\n </defs>\n</svg>\n",
      "text/plain": [
       "<Figure size 244.929x204.68 with 1 Axes>"
      ]
     },
     "execution_count": 4,
     "metadata": {},
     "output_type": "execute_result"
    }
   ],
   "source": [
    "coupling_map=[[0, 1], [1, 0], [1, 2], [2, 1]] # Only qubits 0-1, 1-2 are connected.\n",
    "qc_transpiled = transpile(qc, coupling_map=coupling_map, initial_layout=[0, 1, 2], seed_transpiler=123)\n",
    "qc_transpiled.draw()"
   ]
  },
  {
   "cell_type": "markdown",
   "id": "870663ef",
   "metadata": {},
   "source": [
    "We see that the transpiler needs to insert a $\\SWAP$ gate between qubits 1 and 2 in order to realize the $\\CNOT$ gate between qubits 0 and 2. Clearly, this raises the question how a $\\SWAP$ gate is transpiled to basis gates:"
   ]
  },
  {
   "cell_type": "code",
   "execution_count": 5,
   "id": "21374fd7",
   "metadata": {},
   "outputs": [
    {
     "data": {
      "image/svg+xml": "<?xml version=\"1.0\" encoding=\"utf-8\" standalone=\"no\"?>\n<!DOCTYPE svg PUBLIC \"-//W3C//DTD SVG 1.1//EN\"\n  \"http://www.w3.org/Graphics/SVG/1.1/DTD/svg11.dtd\">\n<svg xmlns:xlink=\"http://www.w3.org/1999/xlink\" width=\"290.223026pt\" height=\"168.933398pt\" viewBox=\"0 0 290.223026 168.933398\" xmlns=\"http://www.w3.org/2000/svg\" version=\"1.1\">\n <metadata>\n  <rdf:RDF xmlns:dc=\"http://purl.org/dc/elements/1.1/\" xmlns:cc=\"http://creativecommons.org/ns#\" xmlns:rdf=\"http://www.w3.org/1999/02/22-rdf-syntax-ns#\">\n   <cc:Work>\n    <dc:type rdf:resource=\"http://purl.org/dc/dcmitype/StillImage\"/>\n    <dc:date>2022-12-09T15:19:44.181630</dc:date>\n    <dc:format>image/svg+xml</dc:format>\n    <dc:creator>\n     <cc:Agent>\n      <dc:title>Matplotlib v3.5.2, https://matplotlib.org/</dc:title>\n     </cc:Agent>\n    </dc:creator>\n   </cc:Work>\n  </rdf:RDF>\n </metadata>\n <defs>\n  <style type=\"text/css\">*{stroke-linejoin: round; stroke-linecap: butt}</style>\n </defs>\n <g id=\"figure_1\">\n  <g id=\"patch_1\">\n   <path d=\"M 0 168.933398 \nL 290.223026 168.933398 \nL 290.223026 0 \nL 0 0 \nz\n\" style=\"fill: #ffffff\"/>\n  </g>\n  <g id=\"axes_1\">\n   <g id=\"line2d_1\">\n    <path d=\"M 92.128828 43.5608 \nL 278.477926 43.5608 \n\" clip-path=\"url(#p64eee6b729)\" style=\"fill: none; stroke: #000000; stroke-width: 2; stroke-linecap: square\"/>\n   </g>\n   <g id=\"line2d_2\">\n    <path d=\"M 92.128828 89.011799 \nL 278.477926 89.011799 \n\" clip-path=\"url(#p64eee6b729)\" style=\"fill: none; stroke: #000000; stroke-width: 2; stroke-linecap: square\"/>\n   </g>\n   <g id=\"line2d_3\">\n    <path d=\"M 92.128828 134.462798 \nL 278.477926 134.462798 \n\" clip-path=\"url(#p64eee6b729)\" style=\"fill: none; stroke: #000000; stroke-width: 2; stroke-linecap: square\"/>\n   </g>\n   <g id=\"line2d_4\">\n    <path d=\"M 116.672368 134.462798 \nL 116.672368 89.011799 \n\" clip-path=\"url(#p64eee6b729)\" style=\"fill: none; stroke: #6fa4ff; stroke-width: 2; stroke-linecap: square\"/>\n   </g>\n   <g id=\"line2d_5\">\n    <path d=\"M 162.123368 134.462798 \nL 162.123368 89.011799 \n\" clip-path=\"url(#p64eee6b729)\" style=\"fill: none; stroke: #6fa4ff; stroke-width: 2; stroke-linecap: square\"/>\n   </g>\n   <g id=\"line2d_6\">\n    <path d=\"M 207.574367 134.462798 \nL 207.574367 89.011799 \n\" clip-path=\"url(#p64eee6b729)\" style=\"fill: none; stroke: #6fa4ff; stroke-width: 2; stroke-linecap: square\"/>\n   </g>\n   <g id=\"line2d_7\">\n    <path d=\"M 253.025366 89.011799 \nL 253.025366 43.5608 \n\" clip-path=\"url(#p64eee6b729)\" style=\"fill: none; stroke: #6fa4ff; stroke-width: 2; stroke-linecap: square\"/>\n   </g>\n   <g id=\"patch_2\">\n    <path d=\"M 116.672368 93.443271 \nC 117.847608 93.443271 118.974872 92.976343 119.805892 92.145323 \nC 120.636913 91.314303 121.103841 90.187039 121.103841 89.011799 \nC 121.103841 87.836559 120.636913 86.709295 119.805892 85.878275 \nC 118.974872 85.047254 117.847608 84.580326 116.672368 84.580326 \nC 115.497128 84.580326 114.369864 85.047254 113.538844 85.878275 \nC 112.707824 86.709295 112.240896 87.836559 112.240896 89.011799 \nC 112.240896 90.187039 112.707824 91.314303 113.538844 92.145323 \nC 114.369864 92.976343 115.497128 93.443271 116.672368 93.443271 \nz\n\" clip-path=\"url(#p64eee6b729)\" style=\"fill: #6fa4ff; stroke: #6fa4ff; stroke-width: 1.5; stroke-linejoin: miter\"/>\n   </g>\n   <g id=\"patch_3\">\n    <path d=\"M 116.672368 144.802901 \nC 119.414595 144.802901 122.044877 143.713402 123.983925 141.774355 \nC 125.922972 139.835307 127.01247 137.205026 127.01247 134.462798 \nC 127.01247 131.720571 125.922972 129.090289 123.983925 127.151242 \nC 122.044877 125.212194 119.414595 124.122696 116.672368 124.122696 \nC 113.930141 124.122696 111.299859 125.212194 109.360812 127.151242 \nC 107.421764 129.090289 106.332266 131.720571 106.332266 134.462798 \nC 106.332266 137.205026 107.421764 139.835307 109.360812 141.774355 \nC 111.299859 143.713402 113.930141 144.802901 116.672368 144.802901 \nz\n\" clip-path=\"url(#p64eee6b729)\" style=\"fill: #6fa4ff; stroke: #6fa4ff; stroke-width: 2; stroke-linejoin: miter\"/>\n   </g>\n   <g id=\"patch_4\">\n    <path d=\"M 162.123368 138.894271 \nC 163.298608 138.894271 164.425871 138.427343 165.256892 137.596323 \nC 166.087912 136.765302 166.55484 135.638039 166.55484 134.462798 \nC 166.55484 133.287558 166.087912 132.160294 165.256892 131.329274 \nC 164.425871 130.498254 163.298608 130.031326 162.123368 130.031326 \nC 160.948127 130.031326 159.820864 130.498254 158.989843 131.329274 \nC 158.158823 132.160294 157.691895 133.287558 157.691895 134.462798 \nC 157.691895 135.638039 158.158823 136.765302 158.989843 137.596323 \nC 159.820864 138.427343 160.948127 138.894271 162.123368 138.894271 \nz\n\" clip-path=\"url(#p64eee6b729)\" style=\"fill: #6fa4ff; stroke: #6fa4ff; stroke-width: 1.5; stroke-linejoin: miter\"/>\n   </g>\n   <g id=\"patch_5\">\n    <path d=\"M 162.123368 99.351901 \nC 164.865595 99.351901 167.495877 98.262403 169.434924 96.323355 \nC 171.373971 94.384308 172.46347 91.754026 172.46347 89.011799 \nC 172.46347 86.269572 171.373971 83.63929 169.434924 81.700242 \nC 167.495877 79.761195 164.865595 78.671697 162.123368 78.671697 \nC 159.38114 78.671697 156.750858 79.761195 154.811811 81.700242 \nC 152.872764 83.63929 151.783265 86.269572 151.783265 89.011799 \nC 151.783265 91.754026 152.872764 94.384308 154.811811 96.323355 \nC 156.750858 98.262403 159.38114 99.351901 162.123368 99.351901 \nz\n\" clip-path=\"url(#p64eee6b729)\" style=\"fill: #6fa4ff; stroke: #6fa4ff; stroke-width: 2; stroke-linejoin: miter\"/>\n   </g>\n   <g id=\"patch_6\">\n    <path d=\"M 207.574367 93.443271 \nC 208.749607 93.443271 209.876871 92.976343 210.707891 92.145323 \nC 211.538911 91.314303 212.005839 90.187039 212.005839 89.011799 \nC 212.005839 87.836559 211.538911 86.709295 210.707891 85.878275 \nC 209.876871 85.047254 208.749607 84.580326 207.574367 84.580326 \nC 206.399127 84.580326 205.271863 85.047254 204.440843 85.878275 \nC 203.609822 86.709295 203.142894 87.836559 203.142894 89.011799 \nC 203.142894 90.187039 203.609822 91.314303 204.440843 92.145323 \nC 205.271863 92.976343 206.399127 93.443271 207.574367 93.443271 \nz\n\" clip-path=\"url(#p64eee6b729)\" style=\"fill: #6fa4ff; stroke: #6fa4ff; stroke-width: 1.5; stroke-linejoin: miter\"/>\n   </g>\n   <g id=\"patch_7\">\n    <path d=\"M 207.574367 144.802901 \nC 210.316594 144.802901 212.946876 143.713402 214.885923 141.774355 \nC 216.824971 139.835307 217.914469 137.205026 217.914469 134.462798 \nC 217.914469 131.720571 216.824971 129.090289 214.885923 127.151242 \nC 212.946876 125.212194 210.316594 124.122696 207.574367 124.122696 \nC 204.83214 124.122696 202.201858 125.212194 200.26281 127.151242 \nC 198.323763 129.090289 197.234265 131.720571 197.234265 134.462798 \nC 197.234265 137.205026 198.323763 139.835307 200.26281 141.774355 \nC 202.201858 143.713402 204.83214 144.802901 207.574367 144.802901 \nz\n\" clip-path=\"url(#p64eee6b729)\" style=\"fill: #6fa4ff; stroke: #6fa4ff; stroke-width: 2; stroke-linejoin: miter\"/>\n   </g>\n   <g id=\"patch_8\">\n    <path d=\"M 253.025366 47.992272 \nC 254.200607 47.992272 255.32787 47.525344 256.158891 46.694324 \nC 256.989911 45.863303 257.456839 44.73604 257.456839 43.5608 \nC 257.456839 42.385559 256.989911 41.258296 256.158891 40.427275 \nC 255.32787 39.596255 254.200607 39.129327 253.025366 39.129327 \nC 251.850126 39.129327 250.722862 39.596255 249.891842 40.427275 \nC 249.060822 41.258296 248.593894 42.385559 248.593894 43.5608 \nC 248.593894 44.73604 249.060822 45.863303 249.891842 46.694324 \nC 250.722862 47.525344 251.850126 47.992272 253.025366 47.992272 \nz\n\" clip-path=\"url(#p64eee6b729)\" style=\"fill: #6fa4ff; stroke: #6fa4ff; stroke-width: 1.5; stroke-linejoin: miter\"/>\n   </g>\n   <g id=\"patch_9\">\n    <path d=\"M 253.025366 99.351901 \nC 255.767594 99.351901 258.397875 98.262403 260.336923 96.323355 \nC 262.27597 94.384308 263.365469 91.754026 263.365469 89.011799 \nC 263.365469 86.269572 262.27597 83.63929 260.336923 81.700242 \nC 258.397875 79.761195 255.767594 78.671697 253.025366 78.671697 \nC 250.283139 78.671697 247.652857 79.761195 245.71381 81.700242 \nC 243.774762 83.63929 242.685264 86.269572 242.685264 89.011799 \nC 242.685264 91.754026 243.774762 94.384308 245.71381 96.323355 \nC 247.652857 98.262403 250.283139 99.351901 253.025366 99.351901 \nz\n\" clip-path=\"url(#p64eee6b729)\" style=\"fill: #6fa4ff; stroke: #6fa4ff; stroke-width: 2; stroke-linejoin: miter\"/>\n   </g>\n   <g id=\"text_1\">\n    <g clip-path=\"url(#p64eee6b729)\">\n     <!-- ${q}_{0}\\;\\mapsto\\;{0}$ -->\n     <g transform=\"translate(25.838629 48.011776)scale(0.1625 -0.1625)\">\n      <defs>\n       <path id=\"DejaVuSans-Oblique-71\" d=\"M 2669 525 \nQ 2438 222 2123 65 \nQ 1809 -91 1428 -91 \nQ 897 -91 595 267 \nQ 294 625 294 1253 \nQ 294 1759 480 2231 \nQ 666 2703 1013 3078 \nQ 1238 3322 1530 3453 \nQ 1822 3584 2144 3584 \nQ 2531 3584 2781 3431 \nQ 3031 3278 3144 2969 \nL 3244 3494 \nL 3822 3494 \nL 2888 -1319 \nL 2309 -1319 \nL 2669 525 \nz\nM 891 1338 \nQ 891 875 1084 633 \nQ 1278 391 1644 391 \nQ 2188 391 2572 911 \nQ 2956 1431 2956 2175 \nQ 2956 2625 2757 2864 \nQ 2559 3103 2188 3103 \nQ 1916 3103 1684 2976 \nQ 1453 2850 1281 2606 \nQ 1100 2350 995 2006 \nQ 891 1663 891 1338 \nz\n\" transform=\"scale(0.015625)\"/>\n       <path id=\"DejaVuSans-30\" d=\"M 2034 4250 \nQ 1547 4250 1301 3770 \nQ 1056 3291 1056 2328 \nQ 1056 1369 1301 889 \nQ 1547 409 2034 409 \nQ 2525 409 2770 889 \nQ 3016 1369 3016 2328 \nQ 3016 3291 2770 3770 \nQ 2525 4250 2034 4250 \nz\nM 2034 4750 \nQ 2819 4750 3233 4129 \nQ 3647 3509 3647 2328 \nQ 3647 1150 3233 529 \nQ 2819 -91 2034 -91 \nQ 1250 -91 836 529 \nQ 422 1150 422 2328 \nQ 422 3509 836 4129 \nQ 1250 4750 2034 4750 \nz\n\" transform=\"scale(0.015625)\"/>\n       <path id=\"DejaVuSans-21a6\" d=\"M 4175 1741 \nL 897 1741 \nL 897 663 \nL 366 663 \nL 366 3350 \nL 897 3350 \nL 897 2272 \nL 4175 2272 \nL 3447 3000 \nL 3822 3375 \nL 5050 2147 \nL 5050 1866 \nL 3822 638 \nL 3447 1013 \nL 4175 1741 \nz\n\" transform=\"scale(0.015625)\"/>\n      </defs>\n      <use xlink:href=\"#DejaVuSans-Oblique-71\" transform=\"translate(0 0.78125)\"/>\n      <use xlink:href=\"#DejaVuSans-30\" transform=\"translate(63.476562 -15.625)scale(0.7)\"/>\n      <use xlink:href=\"#DejaVuSans-21a6\" transform=\"translate(157.288628 0.78125)\"/>\n      <use xlink:href=\"#DejaVuSans-30\" transform=\"translate(287.619248 0.78125)\"/>\n     </g>\n    </g>\n   </g>\n   <g id=\"text_2\">\n    <g clip-path=\"url(#p64eee6b729)\">\n     <!-- ${q}_{1}\\;\\mapsto\\;{1}$ -->\n     <g transform=\"translate(25.838629 93.462775)scale(0.1625 -0.1625)\">\n      <defs>\n       <path id=\"DejaVuSans-31\" d=\"M 794 531 \nL 1825 531 \nL 1825 4091 \nL 703 3866 \nL 703 4441 \nL 1819 4666 \nL 2450 4666 \nL 2450 531 \nL 3481 531 \nL 3481 0 \nL 794 0 \nL 794 531 \nz\n\" transform=\"scale(0.015625)\"/>\n      </defs>\n      <use xlink:href=\"#DejaVuSans-Oblique-71\" transform=\"translate(0 0.09375)\"/>\n      <use xlink:href=\"#DejaVuSans-31\" transform=\"translate(63.476562 -16.3125)scale(0.7)\"/>\n      <use xlink:href=\"#DejaVuSans-21a6\" transform=\"translate(157.288628 0.09375)\"/>\n      <use xlink:href=\"#DejaVuSans-31\" transform=\"translate(287.619248 0.09375)\"/>\n     </g>\n    </g>\n   </g>\n   <g id=\"text_3\">\n    <g clip-path=\"url(#p64eee6b729)\">\n     <!-- ${q}_{2}\\;\\mapsto\\;{2}$ -->\n     <g transform=\"translate(25.838629 138.913775)scale(0.1625 -0.1625)\">\n      <defs>\n       <path id=\"DejaVuSans-32\" d=\"M 1228 531 \nL 3431 531 \nL 3431 0 \nL 469 0 \nL 469 531 \nQ 828 903 1448 1529 \nQ 2069 2156 2228 2338 \nQ 2531 2678 2651 2914 \nQ 2772 3150 2772 3378 \nQ 2772 3750 2511 3984 \nQ 2250 4219 1831 4219 \nQ 1534 4219 1204 4116 \nQ 875 4013 500 3803 \nL 500 4441 \nQ 881 4594 1212 4672 \nQ 1544 4750 1819 4750 \nQ 2544 4750 2975 4387 \nQ 3406 4025 3406 3419 \nQ 3406 3131 3298 2873 \nQ 3191 2616 2906 2266 \nQ 2828 2175 2409 1742 \nQ 1991 1309 1228 531 \nz\n\" transform=\"scale(0.015625)\"/>\n      </defs>\n      <use xlink:href=\"#DejaVuSans-Oblique-71\" transform=\"translate(0 0.78125)\"/>\n      <use xlink:href=\"#DejaVuSans-32\" transform=\"translate(63.476562 -15.625)scale(0.7)\"/>\n      <use xlink:href=\"#DejaVuSans-21a6\" transform=\"translate(157.288628 0.78125)\"/>\n      <use xlink:href=\"#DejaVuSans-32\" transform=\"translate(287.619248 0.78125)\"/>\n     </g>\n    </g>\n   </g>\n   <g id=\"line2d_8\">\n    <path d=\"M 116.672368 140.371428 \nL 116.672368 128.554168 \n\" clip-path=\"url(#p64eee6b729)\" style=\"fill: none; stroke: #ffffff; stroke-width: 2; stroke-linecap: square\"/>\n   </g>\n   <g id=\"line2d_9\">\n    <path d=\"M 110.763738 134.462798 \nL 122.580998 134.462798 \n\" clip-path=\"url(#p64eee6b729)\" style=\"fill: none; stroke: #ffffff; stroke-width: 2; stroke-linecap: square\"/>\n   </g>\n   <g id=\"line2d_10\">\n    <path d=\"M 162.123368 94.920429 \nL 162.123368 83.103169 \n\" clip-path=\"url(#p64eee6b729)\" style=\"fill: none; stroke: #ffffff; stroke-width: 2; stroke-linecap: square\"/>\n   </g>\n   <g id=\"line2d_11\">\n    <path d=\"M 156.214738 89.011799 \nL 168.031997 89.011799 \n\" clip-path=\"url(#p64eee6b729)\" style=\"fill: none; stroke: #ffffff; stroke-width: 2; stroke-linecap: square\"/>\n   </g>\n   <g id=\"line2d_12\">\n    <path d=\"M 207.574367 140.371428 \nL 207.574367 128.554168 \n\" clip-path=\"url(#p64eee6b729)\" style=\"fill: none; stroke: #ffffff; stroke-width: 2; stroke-linecap: square\"/>\n   </g>\n   <g id=\"line2d_13\">\n    <path d=\"M 201.665737 134.462798 \nL 213.482997 134.462798 \n\" clip-path=\"url(#p64eee6b729)\" style=\"fill: none; stroke: #ffffff; stroke-width: 2; stroke-linecap: square\"/>\n   </g>\n   <g id=\"line2d_14\">\n    <path d=\"M 253.025366 94.920429 \nL 253.025366 83.103169 \n\" clip-path=\"url(#p64eee6b729)\" style=\"fill: none; stroke: #ffffff; stroke-width: 2; stroke-linecap: square\"/>\n   </g>\n   <g id=\"line2d_15\">\n    <path d=\"M 247.116736 89.011799 \nL 258.933996 89.011799 \n\" clip-path=\"url(#p64eee6b729)\" style=\"fill: none; stroke: #ffffff; stroke-width: 2; stroke-linecap: square\"/>\n   </g>\n  </g>\n </g>\n <defs>\n  <clipPath id=\"p64eee6b729\">\n   <rect x=\"7.2\" y=\"7.2\" width=\"275.823026\" height=\"154.533398\"/>\n  </clipPath>\n </defs>\n</svg>\n",
      "text/plain": [
       "<Figure size 365.329x204.68 with 1 Axes>"
      ]
     },
     "execution_count": 5,
     "metadata": {},
     "output_type": "execute_result"
    }
   ],
   "source": [
    "qc_transpiled = transpile(qc_transpiled, coupling_map=coupling_map, initial_layout=[0, 1, 2], basis_gates=basis_gates, seed_transpiler=123)\n",
    "qc_transpiled.draw()"
   ]
  },
  {
   "cell_type": "markdown",
   "id": "cf1565ab",
   "metadata": {},
   "source": [
    "We see that a **$\\mathrm{SWAP}$ gate** requires **three $\\CNOT$ gates**! Having in mind the limited coupling map of current (IBM) quantum computers it is easy to imagine that the denser the QUBO matrix $A$ is populated (i.e. the more non-zero entries) the more $\\mathrm{SWAP}$ gates (and therefore $\\CNOT$ gates) are needed because many $\\RZZ$ gates between many different qubits have to transpiled."
   ]
  },
  {
   "cell_type": "markdown",
   "id": "634f3acc",
   "metadata": {},
   "source": [
    "Now, let us observe these effects on our examples."
   ]
  },
  {
   "cell_type": "markdown",
   "id": "55f792a2",
   "metadata": {},
   "source": [
    "## Example Series 1"
   ]
  },
  {
   "cell_type": "markdown",
   "id": "a6b81e9d",
   "metadata": {},
   "source": [
    "### Sparsity Pattern of QUBO Matrix"
   ]
  },
  {
   "cell_type": "markdown",
   "id": "2183e6e0",
   "metadata": {},
   "source": [
    "Recall example series 1:"
   ]
  },
  {
   "cell_type": "markdown",
   "id": "dc1b7a2d",
   "metadata": {
    "cell_style": "center"
   },
   "source": [
    "<img src=\"images/notebook_4_example_1.png\" width=450 />"
   ]
  },
  {
   "cell_type": "markdown",
   "id": "8c0e284f",
   "metadata": {},
   "source": [
    "Here is how the sparsity pattern of the QUBO matrices look like:"
   ]
  },
  {
   "cell_type": "markdown",
   "id": "2a94cf13",
   "metadata": {
    "cell_style": "center"
   },
   "source": [
    "<img src=\"images/sparsity_qubo_matrix/ex1.png\" width=450>"
   ]
  },
  {
   "cell_type": "markdown",
   "id": "08b2c312",
   "metadata": {},
   "source": [
    "For these simple examples we can easily derive the structure of the QUBO matrices: We need to represent the charging level of the car for every time slot 0, 1, 2 and 3. Since we have 4 charging levels we need 2 qubits to represent the charging level for every time slot. So, we need 4 $\\cdot$ 2 = 8 qubits for every example in example series 1.\n",
    "\n",
    "In the plot for example1p0 you can see that we only have a coupling (off-diagonal element) between qubits 0 - 1, 2 - 3, 4 - 5, and 6 - 7. Every two qubit pair represents the charging level for a time slot. Since the car in this example is only at the charging station at time slot 0 no coupling between the different time slots is necessary. This changes for example1p1 where we see a coupling between qubits 0 - 1 - 2 - 3. This stems from the fact that in this example the car is at the charging station at time slots 0 and 1 and thus also the qubits involved must be coupled. And so it goes on until example1p3 where the car is at the charing station for all the time slots and we observe a full coupling between the qubits."
   ]
  },
  {
   "cell_type": "markdown",
   "id": "e0d0df21",
   "metadata": {},
   "source": [
    "Now, let us investigate how the sparsity pattern of the different examples affect the count of basis gates for QAOA with $p=1$."
   ]
  },
  {
   "cell_type": "markdown",
   "id": "acaa0ae7",
   "metadata": {},
   "source": [
    "### Gate Count: Fully Connected Topology"
   ]
  },
  {
   "cell_type": "markdown",
   "id": "685fe4f0",
   "metadata": {},
   "source": [
    "First, let us assume that we have a **fully connected topology**, i.e. each qubit is connected with all other qubits. In the following figure we plot the number of hardware gates, i.e. of $\\X$, $\\SX$ and $\\CNOT$ (in qiskit: `x`, `sx` and `cx`), and the depth of the circuit for all subexamples of example series 1. "
   ]
  },
  {
   "cell_type": "markdown",
   "id": "5b489feb",
   "metadata": {},
   "source": [
    "<img src=\"images/number_gates/example_1_p1_fully_connected.svg\" />"
   ]
  },
  {
   "cell_type": "markdown",
   "id": "60f954a5",
   "metadata": {},
   "source": [
    "We see that the number of $\\CNOT$ gates grows whereas the number of single qubit gates stays constant. The reason is that the subexamples only differ in the number of time slots that the car is at the charging station and (as we discussed above) this directly affects the number of $\\RZZ$ gates which then directly translate to the number of $\\CNOT$ gates."
   ]
  },
  {
   "cell_type": "markdown",
   "id": "4ff2e7c1",
   "metadata": {},
   "source": [
    "Remark: If you are interested in the depth of the circuit you can look at plots before and after transpilation in the folder `images\\transpiled_circuits`."
   ]
  },
  {
   "cell_type": "markdown",
   "id": "34dbb4c1",
   "metadata": {},
   "source": [
    "---\n",
    "Code snippet:\n",
    "```python\n",
    "backend_basis_gates = [\"id\", \"rz\", \"sx\", \"x\", \"cx\", \"reset\"] # see Notebook 3\n",
    "backend_single_qubit_basis_gates = [\"sx\", \"x\"]\n",
    "\n",
    "qaoa_ansatz_transpiled = transpile(\n",
    "    qaoa_ansatz,\n",
    "    basis_gates=backend_basis_gates,\n",
    "    optimization_level=0) # has no effect in this case\n",
    "\n",
    "number_cnots = qaoa_ansatz_transpiled.count_ops()['cx']\n",
    "number_sx_x = count_gates(qaoa_ansatz_transpiled, backend_single_qubit_basis_gates) # count_gates is provided in utils\n",
    "depth = qaoa_ansatz_transpiled.depth()\n",
    "```\n",
    "\n",
    "---"
   ]
  },
  {
   "cell_type": "markdown",
   "id": "22e0b2da",
   "metadata": {},
   "source": [
    "### Gate Count: ibmq_ehningen"
   ]
  },
  {
   "cell_type": "markdown",
   "id": "86f07915",
   "metadata": {},
   "source": [
    "Next, we transpile the QAOA circuits for our example series to the **ibmq_ehningen backend**. The hardware gates are the same as above but recall the **limited connectivity between the qubits** (see coupling map below) that makes it necessary to introduce $\\SWAP$ gates (which we have seen are transpiled to three $\\CNOT$ gates)."
   ]
  },
  {
   "cell_type": "markdown",
   "id": "caca9635",
   "metadata": {},
   "source": [
    "<img src=\"images/images_ibmq_ehningen/coupling_map_ibmq_ehningen.png\" width=450 />"
   ]
  },
  {
   "cell_type": "markdown",
   "id": "2cf00c58",
   "metadata": {},
   "source": [
    "Here are the results for example series 1 transpiled to ibmq_ehningen:"
   ]
  },
  {
   "cell_type": "markdown",
   "id": "08a3bf26",
   "metadata": {},
   "source": [
    "<img src=\"images/number_gates/example1_p1_ehningen.png\" width=650/>"
   ]
  },
  {
   "cell_type": "markdown",
   "id": "6c11d098",
   "metadata": {},
   "source": [
    "As discussed in Notebook 3 there are many parameters to **control the transpilation process**. Two important ones are the **`optimization_level`** and the **`seed_transpiler`**. For the later we already explained that it controls the stochatic parts of the transpilation process. Looking at the figures above we see that this can make a significant difference. As demonstrated in Notebook 3 it is thus a **good practice** to run a transpilation several times and **choose the circuit with the least $\\CNOT$ gates**. Moreover, we see that a transpilation can be done in many different ways and so has much potential for optimization. This is controlled with the `optimization_level`. The higher the number, the more optimized the transpiled circuit is but at the expense of more computation time. We refer to [link1](https://qiskit.org/documentation/apidoc/transpiler.html), [link2](https://qiskit.org/documentation/tutorials/circuits_advanced/04_transpiler_passes_and_passmanager.html) and [link3](https://quantum-enablement.org/how-to/compiling/compiling.html) for further information. Looking at the severe restriction of NISQ hardware we would recommand `optimization_level=3` in order to obtain the best circuits and take the most of the current potential."
   ]
  },
  {
   "cell_type": "markdown",
   "id": "c0a20b80",
   "metadata": {},
   "source": [
    "---\n",
    "Code snippet:\n",
    "```python\n",
    "ibmq_ehningen = provider.get_backend(\"ibmq_ehningen\")\n",
    "backend_coupling_map = ibmq_ehningen.configuration().coupling_map\n",
    "backend_basis_gates = ibmq_ehningen.configuration().basis_gates\n",
    "\n",
    "seeds_for_transpiler = [k for k in range(50)]\n",
    "number_seeds_for_transpiler = len(seeds_for_transpiler)\n",
    "\n",
    "quantum_circuit_transpilations = transpile(\n",
    "    [qaoa_ansatz]*number_seeds_for_transpiler,\n",
    "    coupling_map=backend_coupling_map,\n",
    "    basis_gates=backend_basis_gates,\n",
    "    optimization_level=3, # 0, 1, 2 or 3\n",
    "    seed_transpiler=seeds_for_transpiler)\n",
    "```\n",
    "---"
   ]
  },
  {
   "cell_type": "markdown",
   "id": "abe04729",
   "metadata": {},
   "source": [
    "### Gate Count: Comparison"
   ]
  },
  {
   "cell_type": "markdown",
   "id": "8f4e8352",
   "metadata": {},
   "source": [
    "As a last plot for example series 1 let us **compare** the **number of $\\CNOT$ gates** between the **fully connected topology and ibmq_ehningen**:"
   ]
  },
  {
   "cell_type": "markdown",
   "id": "c767bc01",
   "metadata": {},
   "source": [
    "<img src=\"images/number_gates/example1_p1_fully_connected_vs_ehningen.svg\" />"
   ]
  },
  {
   "cell_type": "markdown",
   "id": "c5644699",
   "metadata": {},
   "source": [
    "We see that the difference in the number of $\\CNOT$ gates **diverges** from example_1p1 over example_1p2 to example_1p3. This has to following reason: the **coupling between the variables** (i.e. the non-zero entries in the QUBO matrix) increases from example_1p1 to example_1p3 and this means we have $\\RZZ$ gates between increasingly many qubits. The more qubits are connected via a $\\RZZ$ the more $\\SWAP$ gates have to be used in order to compensate for the limited connectivity of ibmq_ehningen and thus the divergence."
   ]
  },
  {
   "cell_type": "markdown",
   "id": "65f65e86",
   "metadata": {},
   "source": [
    "## Example Series 2"
   ]
  },
  {
   "cell_type": "markdown",
   "id": "033edde0",
   "metadata": {},
   "source": [
    "Now, we report the figures for example series 2 for the same experiments as for example series 1. We will observe the same effects and thus will only make a few comments."
   ]
  },
  {
   "cell_type": "markdown",
   "id": "8a8cc8e3",
   "metadata": {},
   "source": [
    "### Sparsity Pattern of QUBO Matrix"
   ]
  },
  {
   "cell_type": "markdown",
   "id": "fd8c51be",
   "metadata": {},
   "source": [
    "Recall example series 2:"
   ]
  },
  {
   "cell_type": "markdown",
   "id": "4d1876c3",
   "metadata": {
    "cell_style": "center"
   },
   "source": [
    "<img src=\"images/notebook_4_example_2.png\" width=450 />"
   ]
  },
  {
   "cell_type": "markdown",
   "id": "f34f2096",
   "metadata": {},
   "source": [
    "Sparsity pattern of the QUBO matrices:"
   ]
  },
  {
   "cell_type": "markdown",
   "id": "ebf34bb0",
   "metadata": {
    "cell_style": "center"
   },
   "source": [
    "<img src=\"images/sparsity_qubo_matrix/ex2.png\" width=550/>"
   ]
  },
  {
   "cell_type": "markdown",
   "id": "35f51476",
   "metadata": {},
   "source": [
    "Note the following differences to examples series 1: Clearly, we now need 16 qubits: 8 qubits for the green car and 8 qubits for the orange car. Moreover, note that we have coupling of qubits 0-1-8-9, 2-3-10-11, 4-5-12-13, 6-7-14-15. These are needed for every time slot to add the charging level for the green and the orange car. Altogether we see a more complicated sparsity pattern of the QUBO matrix and expect that this will translate to deeper circuits with more gates and eventually a poorer quality from real quantum computer results."
   ]
  },
  {
   "cell_type": "markdown",
   "id": "dbff30ee",
   "metadata": {},
   "source": [
    "### Gate Count: Fully Connected Topology"
   ]
  },
  {
   "cell_type": "markdown",
   "id": "0717aa52",
   "metadata": {},
   "source": [
    "<img src=\"images/number_gates/example_2_p1_number_gates.svg\" />"
   ]
  },
  {
   "cell_type": "markdown",
   "id": "55b86ad4",
   "metadata": {},
   "source": [
    "### Gate Count: ibmq_ehningen"
   ]
  },
  {
   "cell_type": "markdown",
   "id": "130eefbc",
   "metadata": {},
   "source": [
    "<img src=\"images/number_gates/example2_p1_ehningen.png\" width=700/>"
   ]
  },
  {
   "cell_type": "markdown",
   "id": "92993fcc",
   "metadata": {},
   "source": [
    "### Gate Count: Comparison"
   ]
  },
  {
   "cell_type": "markdown",
   "id": "ec14d06e",
   "metadata": {},
   "source": [
    "<img src=\"images/number_gates/example2_p1_fully_connected_vs_ehningen.svg\" />"
   ]
  },
  {
   "cell_type": "markdown",
   "id": "8ad571ef",
   "metadata": {},
   "source": [
    "In this figure we see the divergence in the number of $\\CNOT$ gates between a fully connected quantum computer and ibmq_ehningen even stronger than in example series 1."
   ]
  },
  {
   "cell_type": "markdown",
   "id": "95fff537",
   "metadata": {},
   "source": [
    "In the last part of this notebook we present results from solving from example series 1 and 2 with QAOA on ibmq_ehningen."
   ]
  },
  {
   "cell_type": "markdown",
   "id": "ae361b67",
   "metadata": {},
   "source": [
    "# Results QAOA on ibmq_ehnigen"
   ]
  },
  {
   "cell_type": "markdown",
   "id": "37d6f931",
   "metadata": {},
   "source": [
    "Our set up for the experiments reported below is the following:\n",
    "- We use the **best parameters** $\\vec{\\beta}$, $\\vec{\\gamma}$ and $\\varrho$ that we found in our simulator experiments in Section Classical Optimization. Thus, we can observe the **performance of ibmq_ehningen** for the **best possible QAOA circuits**.\n",
    "- We **transpile** the QAOA circuits with **75 different seeds** and **optimization level 3**. This transpilation is abbreviated with $\\mathrm{std}$ in the figures below.\n",
    "- We additionally add **dynamical decoupling** to the transpiled circuits (abbreviation then is $\\mathrm{dd}$).\n",
    "- We employ **measurement error mitigation** to the $\\mathrm{std}$ and $\\mathrm{dd}$ circuits via the package `mthree` (abbreviation then is $\\mathrm{xx\\_mit}$, where $\\mathrm{xx}$ = $\\mathrm{std}$ or $\\mathrm{dd}$)\n",
    "\n",
    "For more information on the error mitigation techniques see Notebook 3."
   ]
  },
  {
   "cell_type": "markdown",
   "id": "01c8fd0e",
   "metadata": {},
   "source": [
    "## Quality Metric"
   ]
  },
  {
   "cell_type": "markdown",
   "id": "c99d5ef1",
   "metadata": {},
   "source": [
    "### Fidelity"
   ]
  },
  {
   "cell_type": "markdown",
   "id": "d9ddd358",
   "metadata": {},
   "source": [
    "We measure the quality of the probability distribution $\\{q_i\\}$ stemming from running the QAOA circuit on **ibmq_ehningen** by computing the **fidelity** $F$ with respect to the probability distributions $\\{p_i\\}$ from an **exact state vector simulation**. Thereby, the fidelity is defined as\n",
    "\n",
    "$$\n",
    "F( \\{p_i\\}, \\{q_i\\}) = \\sum_i \\sqrt{p_i q_i} \\ ,\n",
    "$$\n",
    "\n",
    "see further [1, Chapter 9]. We note that the fidelity is between $0$ and $1$, where $0$ is the worst case and $1$ is the best case. In `qiskit` the fidelity can be computed via `qiskit.quantum_info.hellinger_fidelity`, see [link](https://qiskit.org/documentation/stubs/qiskit.quantum_info.hellinger_fidelity.html#qiskit.quantum_info.hellinger_fidelity)."
   ]
  },
  {
   "cell_type": "markdown",
   "id": "56d5a720",
   "metadata": {},
   "source": [
    "---\n",
    "Code snippet:\n",
    "```python\n",
    "from qiskit.quantum_info import hellinger_fidelity\n",
    "\n",
    "# See the end of Notebook 3 for experiment_df\n",
    "fidelity = hellinger_fidelity(\n",
    "    experiment_df[\"probability_exact\"].to_dict(), experiment_df[\"probability\"].to_dict())\n",
    "```\n",
    "---"
   ]
  },
  {
   "cell_type": "markdown",
   "id": "db91d9bb",
   "metadata": {},
   "source": [
    "### Expectation Value"
   ]
  },
  {
   "cell_type": "markdown",
   "id": "efb3fbc4",
   "metadata": {},
   "source": [
    "In Notebook 2 we explained that the expectation value\n",
    "\n",
    "$$\n",
    "e(\\vec{\\beta}, \\vec{\\gamma})\n",
    "=\n",
    "\\langle \\psi_\\mathrm{QAOA}(\\vec{\\beta}, \\vec{\\gamma}) | \\HP |\\psi_\\mathrm{QAOA}(\\vec{\\beta}, \\vec{\\gamma}) \\rangle\n",
    "$$\n",
    "\n",
    "is connected to the QUBO cost function $f_3$ by\n",
    "\n",
    "$$\n",
    "e(\\vec{\\beta}, \\vec{\\gamma})\n",
    "= \\sum_{b \\in \\{0, 1\\}^n}\n",
    "|\\lambda_{b}(\\vec{\\beta}, \\vec{\\gamma})|^2 f_3(\\vec{b}) \\ ,\n",
    "$$\n",
    "\n",
    "where the amplitudes $\\lambda_{b}(\\vec{\\beta}, \\vec{\\gamma})$ belong to the state $|\\psi_\\mathrm{QAOA}(\\vec{\\beta}, \\vec{\\gamma}) \\rangle$, i.e.\n",
    "\n",
    "$$\n",
    "|\\psi_\\mathrm{QAOA}(\\vec{\\beta}, \\vec{\\gamma}) \\rangle \n",
    "= \\sum_{\\vec{b} \\in \\{0, 1\\}^n}\n",
    "\\lambda_{b}(\\vec{\\beta}, \\vec{\\gamma}) |b\\rangle \\ .\n",
    "$$"
   ]
  },
  {
   "cell_type": "markdown",
   "id": "3ca8a62c",
   "metadata": {},
   "source": [
    "This means a low expectation value $e$ indicates that the QAOA generates a quantum state $|\\psi_\\mathrm{QAOA}(\\vec{\\beta}, \\vec{\\gamma}) \\rangle$ with **large amplitudes** for **bit strings** $b$ with **low cost** $f_3(\\vec{b})$. Thus, measuring $e$ is a meaningful quality metric, in particular if one compares it to the minimum value of $f_3$, i.e. $\\min_{\\vec{b} \\in \\{0, 1\\}^n} f_3(\\vec{b})$."
   ]
  },
  {
   "cell_type": "markdown",
   "id": "ba258bca",
   "metadata": {},
   "source": [
    "## Fidelity, Example Series 1, $p=1$"
   ]
  },
  {
   "cell_type": "markdown",
   "id": "f32fbdeb",
   "metadata": {},
   "source": [
    "<img src=\"images/fidelities/example1_p1_2022_09_02.png\"/>"
   ]
  },
  {
   "cell_type": "markdown",
   "id": "3e77e5d2",
   "metadata": {},
   "source": [
    "In the upper three plots we can clearly see the influence of the number of $\\CNOT$ gates. On the left, we see that a **moderate number of $\\CNOT$s** leads to a **fairly high fidelity** - with and without dynamical decoupling. We see some outliers but in general all transpilations lead to a good quality (the variance between results is small). In the middle we see that for circuits with **more $\\CNOT$s** the **fidelity** for the **standard transpilation drops significantly**. There are still some circuits that lead to medium fidelities but also many with poor performance, i.e. the variance of the results is very high. However, the **circuit depth** seems to be **low enough** so that **dynamical decoupling can mitigate many errors** and yields considerably better results. On the right plot we see **$\\CNOT$ numbers** that are **definitely too high for ibmq_ehningen** so that without dynamical decoupling the **fidelity is poor for all transpilations**. Adding dynamical decoupling can in some cases give better results but looking at the high variance we see that there is no guarantee that it works."
   ]
  },
  {
   "cell_type": "markdown",
   "id": "784f4df5",
   "metadata": {},
   "source": [
    "## Fidelity, $p=1$, Different Dates"
   ]
  },
  {
   "cell_type": "markdown",
   "id": "8f3ae9f1",
   "metadata": {},
   "source": [
    "The **error rates** of quantum computers are not static but **significantly change over time**. In the following figures we observe that this has a **drastic effect** on the **quality** of the results obtained from ibmq_ehningen."
   ]
  },
  {
   "cell_type": "markdown",
   "id": "f8e7c7c2",
   "metadata": {},
   "source": [
    "### Exampe1p1"
   ]
  },
  {
   "cell_type": "markdown",
   "id": "68093f68",
   "metadata": {},
   "source": [
    "<img src=\"images/fidelities/example1p1_p1_2022_09_010205.png\" />"
   ]
  },
  {
   "cell_type": "markdown",
   "id": "91b70ce5",
   "metadata": {},
   "source": [
    "### Exampe1p2"
   ]
  },
  {
   "cell_type": "markdown",
   "id": "6045c9a9",
   "metadata": {},
   "source": [
    "<img src=\"images/fidelities/example1p2_p1_2022_09_010205.png\" />"
   ]
  },
  {
   "cell_type": "markdown",
   "id": "e2ffaae1",
   "metadata": {},
   "source": [
    "Seeing how drastically the quality of our results changes from day to day we recommand running experiments on a series of different dates and (if possible) on different quantum computers."
   ]
  },
  {
   "cell_type": "markdown",
   "id": "4734bb41",
   "metadata": {},
   "source": [
    "## Fidelity and Expectation Value, $p=1$ and $p=2$"
   ]
  },
  {
   "cell_type": "markdown",
   "id": "a74f02b5",
   "metadata": {},
   "source": [
    "In this section we want to analyze the effect of the parameter $p$. In particular, we are interested in the **trade-off** between **better approximation quality** but **longer circuits** that come with higher values for $p$."
   ]
  },
  {
   "cell_type": "markdown",
   "id": "e833b20d",
   "metadata": {},
   "source": [
    "### Example1p1"
   ]
  },
  {
   "cell_type": "markdown",
   "id": "6a6e9059",
   "metadata": {},
   "source": [
    "<img src=\"images/expectations/example1p1_p1_2_2022_09_01_fid_exp.png\" width=600 />"
   ]
  },
  {
   "cell_type": "markdown",
   "id": "0b91904b",
   "metadata": {},
   "source": [
    "For the simplest that we consider (i.e.  example1p1) we see in the upper figure that choosing $p=2$ gives the better result (in terms of lower expecation value). In theory this is expected, compare the dashed lines in the two lower plots. However, in practice on real quantum computers the deeper circuits for $p=2$ could be a problem, but for the example at hand the circuits are shallow enough that we don't run into prolems when executing them on ibmq_ehningen. This will change in the next examples."
   ]
  },
  {
   "cell_type": "markdown",
   "id": "bc257e26",
   "metadata": {},
   "source": [
    "### Example1p2"
   ]
  },
  {
   "cell_type": "markdown",
   "id": "dc388fef",
   "metadata": {},
   "source": [
    "<img src=\"images/expectations/example1p2_p1_2_2022_09_01_fid_exp.png\" width=600 />"
   ]
  },
  {
   "cell_type": "markdown",
   "id": "dc2ac2da",
   "metadata": {},
   "source": [
    "Already in example1p2 we see that the trade-off between better theoretical solution and practical result speak rather in favor of $p=1$. For this choice we get more reliable a solution with good expectation value. Choosing $p=2$ might give a better solution but looking at the high variance this is pretty uncertain."
   ]
  },
  {
   "cell_type": "markdown",
   "id": "0d9bb955",
   "metadata": {},
   "source": [
    "### Example1p3"
   ]
  },
  {
   "cell_type": "markdown",
   "id": "86c2c82e",
   "metadata": {},
   "source": [
    "<img src=\"images/expectations/example1p3_p1_2_2022_09_01_fid_exp.png\" width=600 />"
   ]
  },
  {
   "cell_type": "markdown",
   "id": "77b5b499",
   "metadata": {},
   "source": [
    "For example1p3 the situation is clear: The QAOA circuits for $p=2$ are too deep for ibmq_ehningen so that no meaningful result can be obtained."
   ]
  },
  {
   "cell_type": "markdown",
   "id": "588bfe64",
   "metadata": {},
   "source": [
    "## Number $\\CNOT$ Gates vs. Fidelity"
   ]
  },
  {
   "cell_type": "markdown",
   "id": "37b3f48e",
   "metadata": {},
   "source": [
    "As last figures for example series 1 we present the number of $\\CNOT$ gates in the circuit versus the fidelity that the circuit achieved."
   ]
  },
  {
   "cell_type": "markdown",
   "id": "4c5b47af",
   "metadata": {},
   "source": [
    "### Example1p1"
   ]
  },
  {
   "cell_type": "markdown",
   "id": "aad2d873",
   "metadata": {},
   "source": [
    "<img src=\"images/fidelities_vs_cnots/example1p1_p1_2_2022_09_01.png\" />"
   ]
  },
  {
   "cell_type": "markdown",
   "id": "57a4fcbe",
   "metadata": {},
   "source": [
    "Comparing the left and the right plots (i.e. comparing $p=1$ and $p=2$) we see that circuits with more $\\CNOT$ gates give results with a lower fidelity. Moreover, we see in the top plots that for the standard transpilation we don't have the expected decrease in fidelity when increasing the number of $\\CNOT$s. In particular, in the top right plot we see the best results for a medium number of $\\CNOT$ gates and a very poor quality for the lowest number of $\\CNOT$s. The explanation is probably that the standard transpilation method is not aware of all kinds of errors that appear in a quantum device and thus did not choose the best qubits. A hint in this direction is also the remarkable fact that for the circuits with dynamical decoupling the fidelity stays nearly constant for the range of number of $\\CNOT$ gates appearing in the examples here. It seems that dynamical decoupling removed the errors that spoiled the quality for the top plots."
   ]
  },
  {
   "cell_type": "markdown",
   "id": "7182e880",
   "metadata": {},
   "source": [
    "For example1p2 and example1p3 below we make the same observations but additionally observe that dynamical decoupling and measurement error mitigation don't suffice to remove all appearing errors, see the plots with $\\CNOT$ range between 40 and 150. (One reason might be cross-talk between the qubits). And for examples with more than 200 $\\CNOT$ gates we don't get a meaningful solution at all."
   ]
  },
  {
   "cell_type": "markdown",
   "id": "abc37107",
   "metadata": {},
   "source": [
    "### Example1p2"
   ]
  },
  {
   "cell_type": "markdown",
   "id": "9eed403d",
   "metadata": {},
   "source": [
    "<img src=\"images/fidelities_vs_cnots/example1p2_p1_2_2022_09_01.png\" />"
   ]
  },
  {
   "cell_type": "markdown",
   "id": "215e6a07",
   "metadata": {},
   "source": [
    "### Example1p3"
   ]
  },
  {
   "cell_type": "markdown",
   "id": "f402f854",
   "metadata": {},
   "source": [
    "<img src=\"images/fidelities_vs_cnots/example1p3_p1_2_2022_09_01.png\" />"
   ]
  },
  {
   "cell_type": "markdown",
   "id": "e9361ed5",
   "metadata": {},
   "source": [
    "### Example1p3: Different Dates"
   ]
  },
  {
   "cell_type": "markdown",
   "id": "3ebac9ad",
   "metadata": {},
   "source": [
    "As mentioned above the error rates of quantum computers change significantly over time. The effect on the quality of our results is clearly visible in the plots below:"
   ]
  },
  {
   "cell_type": "markdown",
   "id": "af8ef400",
   "metadata": {},
   "source": [
    "<img src=\"images/fidelities_vs_cnots/example1p3_p1_ehningen_2022_09_010205_dd.png\" />"
   ]
  },
  {
   "cell_type": "markdown",
   "id": "da5276ae",
   "metadata": {},
   "source": [
    "## Fidelity and Expectation Value, $p=1$ and $p=2$"
   ]
  },
  {
   "cell_type": "markdown",
   "id": "bb64027c",
   "metadata": {},
   "source": [
    "We end this notebook with results for example2p1 and example2p4. For these examples we are in regimes of number of $\\CNOT$ gates that are too much for current quantum computers. Thus, we see poor fidelities and expecation values that stay bounded away from an exact simulation and also from the exact solution."
   ]
  },
  {
   "cell_type": "markdown",
   "id": "1607b8ac",
   "metadata": {},
   "source": [
    "### Example2p1"
   ]
  },
  {
   "cell_type": "markdown",
   "id": "67c8fde7",
   "metadata": {},
   "source": [
    "<img src=\"images\\expectations\\example2p1_p1_2_2022_09_01_fid_exp.png\" width=600/>"
   ]
  },
  {
   "cell_type": "markdown",
   "id": "e0792c68",
   "metadata": {},
   "source": [
    "### Example2p4"
   ]
  },
  {
   "cell_type": "markdown",
   "id": "7c76909b",
   "metadata": {},
   "source": [
    "<img src=\"images\\expectations\\example2p4_p1_2_2022_09_01_fid_exp.png\" width=600/>"
   ]
  },
  {
   "cell_type": "markdown",
   "id": "d3dedac3",
   "metadata": {},
   "source": [
    "# Literature <a class=\"tocSkip\">"
   ]
  },
  {
   "cell_type": "markdown",
   "id": "2921f9b0",
   "metadata": {},
   "source": [
    "[1] Nielsen, M. A. and Chuang, I. L. 2010. Quantum computation and quantum information.\n",
    "Cambridge University Press, Cambridg"
   ]
  },
  {
   "cell_type": "markdown",
   "id": "0ed1a111",
   "metadata": {},
   "source": [
    "---\n",
    "Author: Andreas Sturm, andreas.sturm@iao.fraunhofer.de\n",
    "\n",
    "(c) Fraunhofer IAO\n",
    "\n",
    "---"
   ]
  },
  {
   "attachments": {},
   "cell_type": "markdown",
   "id": "7aabf7ea",
   "metadata": {},
   "source": [
    "**Copyright 2023 Andreas Sturm, Fraunhofer IAO**\n",
    "\n",
    "Licensed under the Apache License, Version 2.0 (the \"License\"); you may not use this file except in compliance with the License. You may obtain a copy of the License at\n",
    "\n",
    "http://www.apache.org/licenses/LICENSE-2.0\n",
    "\n",
    "Unless required by applicable law or agreed to in writing, software distributed under the License is distributed on an \"AS IS\" BASIS, WITHOUT WARRANTIES OR CONDITIONS OF ANY KIND, either express or implied. See the License for the specific language governing permissions and limitations under the License."
   ]
  }
 ],
 "metadata": {
  "kernelspec": {
   "display_name": "base",
   "language": "python",
   "name": "python3"
  },
  "language_info": {
   "codemirror_mode": {
    "name": "ipython",
    "version": 3
   },
   "file_extension": ".py",
   "mimetype": "text/x-python",
   "name": "python",
   "nbconvert_exporter": "python",
   "pygments_lexer": "ipython3",
   "version": "3.9.13 (main, Aug 25 2022, 23:51:50) [MSC v.1916 64 bit (AMD64)]"
  },
  "toc": {
   "base_numbering": 1,
   "nav_menu": {},
   "number_sections": true,
   "sideBar": true,
   "skip_h1_title": false,
   "title_cell": "Table of Contents",
   "title_sidebar": "Contents",
   "toc_cell": false,
   "toc_position": {},
   "toc_section_display": true,
   "toc_window_display": false
  },
  "vscode": {
   "interpreter": {
    "hash": "22af032344c768e1d157e1b38d6a78b920a14047785a8ab4488015d1714ac992"
   }
  }
 },
 "nbformat": 4,
 "nbformat_minor": 5
}
